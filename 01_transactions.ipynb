{
 "cells": [
  {
   "cell_type": "code",
   "execution_count": null,
   "id": "b5ff4b22-2d0e-4b1e-b2ef-acea029f7d50",
   "metadata": {},
   "outputs": [],
   "source": [
    "# Generate a nicely formatted transactions/money table\n",
    "from datetime import date\n",
    "from re import split\n",
    "import pandas as pd\n",
    "\n",
    "from chtl_helpers import balance_to_float\n",
    "\n",
    "def current_year():\n",
    "    \"\"\"Returns the current UTC year.\"\"\"\n",
    "    return date.today().year\n",
    "\n",
    "def read_transactions_csv(filename):\n",
    "    \"\"\"Call pd.read_csv with appropriate options and file prefix.\"\"\"\n",
    "    money_cols = (\n",
    "        'Payment Amount', 'Discount', 'On Account', 'Transaction Amount', 'Amount Due', 'Amount Paid',\n",
    "         'Amount Due For Line Item', 'Actual Paid',\n",
    "    )\n",
    "    return pd.read_csv(\n",
    "        f'input/{filename}',\n",
    "        # Excludes colums redundant with another table.\n",
    "        usecols=(\n",
    "            'Transaction ID', 'Member ID', 'Date', 'Payment Method', 'Payment Amount', 'Discount', 'On Account',\n",
    "            'Transaction Amount', 'Amount Due', 'Amount Paid', 'Type', 'Amount Due For Line Item', 'Actual Paid',\n",
    "            'Item ID', 'Membership Type', 'Handled By', 'Notes', 'Renewal',\n",
    "        ),\n",
    "        dtype={\n",
    "            # Typically a number, but members can choose their own, e.g. \"t00ln00b\"\n",
    "            'Member ID': 'string',\n",
    "            # I manually modified two loans in loans-2017 that had \"Item ID\": \"Drill\" to use ID 517, rest should be Int64.\n",
    "            # Without an explicit type, some files parse the \"Item ID\" as a number, some as a string.\n",
    "            'Item ID': 'Int64',\n",
    "        },\n",
    "        # Convert \"$0.00\" strings to actual numbers\n",
    "        converters={ col: balance_to_float for col in money_cols},\n",
    "        # 'Checked Out'. 'Checked In', 'Due Date'\n",
    "        parse_dates=['Date'],\n",
    "    )\n",
    "\n",
    "raw_transactions = pd.concat([\n",
    "    read_transactions_csv(f'transactions-{year}.csv')\n",
    "    for year in range(2016, current_year() + 1)\n",
    "]).reset_index()\n",
    "\n",
    "raw_transactions"
   ]
  },
  {
   "cell_type": "code",
   "execution_count": null,
   "id": "2e5e4da3-c25d-4b83-98ac-b16110b2b4dc",
   "metadata": {},
   "outputs": [],
   "source": [
    "# Backfill the \"Type\". Weirdly, it's only set for the first row in a sequence of transactions.\n",
    "raw_transactions['Type'].fillna(method='ffill', inplace=True)"
   ]
  },
  {
   "cell_type": "code",
   "execution_count": null,
   "id": "86b8cab0-efb0-4588-b229-5004d346bf40",
   "metadata": {},
   "outputs": [],
   "source": [
    "raw_transactions.to_csv('output/transactions.csv')\n",
    "raw_transactions.to_pickle('output/transactions.pkl')"
   ]
  }
 ],
 "metadata": {
  "kernelspec": {
   "display_name": "Python 3 (ipykernel)",
   "language": "python",
   "name": "python3"
  },
  "language_info": {
   "codemirror_mode": {
    "name": "ipython",
    "version": 3
   },
   "file_extension": ".py",
   "mimetype": "text/x-python",
   "name": "python",
   "nbconvert_exporter": "python",
   "pygments_lexer": "ipython3",
   "version": "3.10.4"
  }
 },
 "nbformat": 4,
 "nbformat_minor": 5
}
