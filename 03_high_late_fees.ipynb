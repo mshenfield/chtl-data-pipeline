{
 "cells": [
  {
   "cell_type": "code",
   "execution_count": null,
   "id": "a5f79cf1-4a62-455e-9774-9956fab7ba8f",
   "metadata": {},
   "outputs": [],
   "source": [
    "# Add outstanding balance (overdue loan balance + any outsanding balance) to the member info\n",
    "#\n",
    "# This is spread between \"Loans\" > \"Overdue Only\" in MyTurn, and the \"Outsatnding Balances\"\n",
    "# report in MyTurn.  Combining it one place helps identify people with heavy outsanding balances.\n",
    "import pandas as pd\n",
    "\n",
    "from chtl_helpers import balance_to_float\n",
    "\n",
    "users = pd.read_pickle('output/members.pkl')\n",
    "balances = pd.read_csv(\n",
    "    'input/outstanding-balances.csv',\n",
    "    # Skip duplicative personal info, just ID and balance is enough.\n",
    "    usecols=('ID', 'Amount'),\n",
    "    dtype={\n",
    "        # Make the 'Member ID' a string for compatibility with other tables. Occassionally set it to something other than a number.\n",
    "        'ID': 'string',\n",
    "    },\n",
    "    # Convert \"$0.00\" strings to actual numbers\n",
    "    converters={'Amount': balance_to_float},\n",
    ").rename(columns={'ID': 'Membership ID'}).set_index('Membership ID')\n",
    "\n",
    "loans = pd.read_pickle('output/loans.pkl')\n",
    "late_fees = loans.groupby('Membership ID').sum()\n",
    "\n",
    "# De-anonymized user data so we can pull emails.\n",
    "# WARNING: The input data should NOT be committed\n",
    "raw_deanonymized_members = pd.read_csv('input_with_personal_info/users-snapshot.csv', usecols = ['Email', 'Member ID'], dtype = {'Member ID': 'object'}).rename(\n",
    "    {'Member ID': 'Membership ID'}, axis=1)\n",
    "\n",
    "users['Late Fees'] = users.join(late_fees['Late Fees To Date'], on='Membership ID')['Late Fees To Date'].fillna(0.0).round(2)\n",
    "users['Balance'] = users.join(balances['Amount'], on='Membership ID')['Amount'].fillna(0.0).round(2)\n",
    "users['Balance Including Late Fees'] = (users['Late Fees'] + users['Balance']).round(2)\n",
    "\n",
    "high_late_fees = users[users['Balance Including Late Fees'] > 20][['Balance Including Late Fees', 'Balance', 'Late Fees', 'Membership ID']]\n",
    "high_late_fees_with_email = high_late_fees.join(raw_deanonymized_members.set_index('Membership ID'), on='Membership ID').sort_valuesthe two objects.\n",
    "\n",
    "    left: use calling frame’s index (or column if on is specified)\n",
    "\n",
    "    right: use other’s index.\n",
    "\n",
    "    outer: form union of calling frame’s('Balance Including Late Fees', ascending=False)\n",
    "high_late_fees_with_email.to_csv('output_with_personal_info/high_late_fees.csv')\n",
    "\n",
    "\n",
    "high_late_fees.plot.hist()\n"
   ]
  },
  {
   "cell_type": "code",
   "execution_count": null,
   "id": "701712b7-3e63-478f-9b36-afed79770880",
   "metadata": {},
   "outputs": [],
   "source": []
  }
 ],
 "metadata": {
  "kernelspec": {
   "display_name": "Python 3 (ipykernel)",
   "language": "python",
   "name": "python3"
  },
  "language_info": {
   "codemirror_mode": {
    "name": "ipython",
    "version": 3
   },
   "file_extension": ".py",
   "mimetype": "text/x-python",
   "name": "python",
   "nbconvert_exporter": "python",
   "pygments_lexer": "ipython3",
   "version": "3.10.4"
  }
 },
 "nbformat": 4,
 "nbformat_minor": 5
}
