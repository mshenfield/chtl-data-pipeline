{
 "cells": [
  {
   "cell_type": "code",
   "execution_count": 1,
   "id": "a5f79cf1-4a62-455e-9774-9956fab7ba8f",
   "metadata": {},
   "outputs": [
    {
     "data": {
      "text/plain": [
       "<AxesSubplot:ylabel='Frequency'>"
      ]
     },
     "execution_count": 1,
     "metadata": {},
     "output_type": "execute_result"
    },
    {
     "data": {
      "image/png": "[encoded data removed]",
      "text/plain": [
       "<Figure size 432x288 with 1 Axes>"
      ]
     },
     "metadata": {
      "needs_background": "light"
     },
     "output_type": "display_data"
    }
   ],
   "source": [
    "#  Generate a list of users with large late fees or very overdue items\n",
    "#\n",
    "# Fees are spread between late fees on items that are still checked out (\"Loans\" > \"Overdue Only\" in MyTurn),\n",
    "# and balances accrued on the account for previously overdue items (\"Outstanding Balances\" report in MyTurn).\n",
    "# In almost all cases, a high outstanding balance is indicative of users who have been previously contacted\n",
    "# and failed to return items, so are not included in the \"high_late_fees\" report (since they've already been\n",
    "# through the contact cycle).\n",
    "#\n",
    "# The list generated includes emails pulled from the inputs_with_personal_info folder, and is stored in a\n",
    "# folder that is .gitignored so we don't commit personal info.\n",
    "import pandas as pd\n",
    "\n",
    "from chtl_helpers import balance_to_float\n",
    "\n",
    "users = pd.read_pickle('output/members.pkl')\n",
    "balances = pd.read_csv(\n",
    "    'input/outstanding-balances.csv',\n",
    "    # Skip duplicative personal info, just ID and balance is enough.\n",
    "    usecols=('ID', 'Amount'),\n",
    "    dtype={\n",
    "        # Make the 'Member ID' a string for compatibility with other tables. Occassionally set it to something other than a number.\n",
    "        'ID': 'string',\n",
    "    },\n",
    "    # Convert \"$0.00\" strings to actual numbers\n",
    "    converters={'Amount': balance_to_float},\n",
    ").rename(columns={'ID': 'Membership ID'}).set_index('Membership ID')\n",
    "\n",
    "loans = pd.read_pickle('output/loans.pkl')\n",
    "late_fees = loans.groupby('Membership ID').sum()\n",
    "\n",
    "# De-anonymized user data so we can pull emails.\n",
    "raw_deanonymized_members = pd.read_csv(\n",
    "    'input_with_personal_info/users-snapshot.csv',\n",
    "    usecols = ['Email', 'Member ID'], dtype = {'Member ID': 'object'}\n",
    ")\n",
    "\n",
    "users['Late Fees'] = users.join(late_fees['Late Fees To Date'], on='Membership ID')['Late Fees To Date'].fillna(0.0).round(2)\n",
    "users['Balance'] = users.join(balances['Amount'], on='Membership ID')['Amount'].fillna(0.0).round(2)\n",
    "\n",
    "high_late_fees = users[users['Late Fees'] > 20][['Balance', 'Late Fees', 'Membership ID']]\n",
    "high_late_fees_with_email = high_late_fees.join(raw_deanonymized_members.set_index('Member ID'), on='Membership ID').sort_values(\n",
    "    # Sort values highest to lowest late fees\n",
    "    'Late Fees', ascending=False)\n",
    "high_late_fees_with_email.to_csv('output_with_personal_info/high_late_fees.csv')\n",
    "\n",
    "\n",
    "high_late_fees.plot.hist()\n"
   ]
  },
  {
   "cell_type": "code",
   "execution_count": null,
   "id": "701712b7-3e63-478f-9b36-afed79770880",
   "metadata": {},
   "outputs": [],
   "source": []
  }
 ],
 "metadata": {
  "kernelspec": {
   "display_name": "Python 3 (ipykernel)",
   "language": "python",
   "name": "python3"
  },
  "language_info": {
   "codemirror_mode": {
    "name": "ipython",
    "version": 3
   },
   "file_extension": ".py",
   "mimetype": "text/x-python",
   "name": "python",
   "nbconvert_exporter": "python",
   "pygments_lexer": "ipython3",
   "version": "3.10.4"
  }
 },
 "nbformat": 4,
 "nbformat_minor": 5
}
