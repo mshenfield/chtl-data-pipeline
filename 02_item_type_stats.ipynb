{
 "cells": [
  {
   "cell_type": "code",
   "execution_count": null,
   "id": "f9e98ce9-4286-46ca-a792-d77313620c92",
   "metadata": {},
   "outputs": [],
   "source": [
    "# Use loans, our inventory table, and a dump of item types from MyTurn to generate statistics about each \"Item Type\" we have inventory for.\n",
    "#\n",
    "# The \"Item Type\" is MyTurn's way of bucketing items. You may have many difference sizes\n",
    "# of box wrench, but they'll all have \"Box Wrench\" as the \"Item Type\", allowing us to\n",
    "# understand trends/loan categories as a group.\n",
    "import pandas as pd\n",
    "\n",
    "def itertuples(item_type_df):\n",
    "    return item_type_df.rename(\n",
    "        columns={'Type': 'name', 'Parent Type': 'parent'},\n",
    "    ).itertuples(index=False)\n",
    "\n",
    "raw_item_types = pd.read_csv(\n",
    "    'data/input/item-types.csv',\n",
    "    # Skip the \"Full Hierarchy\" column since we don't use it at the moment\n",
    "    usecols=('Type', 'Parent Type')\n",
    ")\n",
    "# Remove 'root' row, since it's a bit weird\n",
    "item_types = raw_item_types.iloc[1:]\n",
    "item_types"
   ]
  },
  {
   "cell_type": "code",
   "execution_count": null,
   "id": "ff7a6332-fa1b-4103-80cc-87ede1630ccf",
   "metadata": {
    "tags": []
   },
   "outputs": [],
   "source": [
    "# For each \"Item Type\", create a list that includes itself and all descendants\n",
    "from collections import defaultdict\n",
    "\n",
    "descendants = defaultdict(lambda: set())\n",
    "\n",
    "for item_type in itertuples(item_types):\n",
    "    # Add itself for convenience\n",
    "    descendants[item_type.name].add(item_type.name)\n",
    "    # Add the child to it's parent's descendants list.\n",
    "    descendants[item_type.parent].add(item_type.name)\n",
    "    \n",
    "# Remove the defaultdict, so we don't accidentally access keys that don't exist\n",
    "descendants = dict(descendants)\n",
    "descendants"
   ]
  },
  {
   "cell_type": "code",
   "execution_count": null,
   "id": "9dc19e16-6476-4925-b64e-5a4114d3fb01",
   "metadata": {},
   "outputs": [],
   "source": [
    "import pandas as pd\n",
    "\n",
    "inventory = pd.read_pickle('data/output/inventory.pkl')\n",
    "loans = pd.read_pickle('data/output/loans.pkl')"
   ]
  },
  {
   "cell_type": "code",
   "execution_count": null,
   "id": "2458bf3f-f53a-4db4-8f8f-826a8f99f16d",
   "metadata": {},
   "outputs": [],
   "source": [
    "# Generate the report\n",
    "import pandas as pd\n",
    "\n",
    "# An empty list of the result\n",
    "rows = []\n",
    "\n",
    "# Index loans by \"Item ID\" so we can speed up lookups below\n",
    "loans_by_item_id = loans.set_index('Item ID')\n",
    "\n",
    "for item_type in itertuples(item_types):\n",
    "    # Pull a list of items for this item_type or its descendants\n",
    "    items = inventory[\n",
    "        inventory['Item Type'].isin(descendants[item_type.name])\n",
    "    ]\n",
    "    item_type_count = len(descendants[item_type.name])\n",
    "    count = items['Item ID'].count()\n",
    "    disabled_count = items[items['Disabled'] | items['In Maintenance'] | items['Wish List']]['Item ID'].count()\n",
    "    active_count = count - disabled_count\n",
    "\n",
    "    # Determine the maximum number of items checked out at once.\n",
    "    #\n",
    "    # This is easier than it sounds. We just grab all the check-in/out dates and increment the check-out\n",
    "    # count when we encounter a check-out, decrement on a check-in. It doesn't matter which item specifically\n",
    "    # is checked-out/checked-in.\n",
    "    item_loans = loans_by_item_id[loans_by_item_id.index.isin(items['Item ID'])]\n",
    "    \n",
    "    loan_dates = []\n",
    "    for _, loan in item_loans.iterrows():\n",
    "        loan_dates.append({'type': 'CHECKOUT', 'date': loan['Checked Out']})\n",
    "        \n",
    "        if pd.notna(loan['Checked In']):\n",
    "            # After 6 months, treat the item as lost (non concurrently checked out)\n",
    "            loan_dates.append({\n",
    "                'type': 'CHECKIN',\n",
    "                'date': min(loan['Checked In'], loan['Checked Out'] + pd.Timedelta(weeks=25))\n",
    "            })\n",
    "\n",
    "    # Sort them in ascending order by date\n",
    "    loan_dates.sort(key=lambda d: d['date'])\n",
    "    \n",
    "    max_checked_out = 0\n",
    "    max_checked_out_date = None\n",
    "    checked_out = 0\n",
    "    for ld in loan_dates:\n",
    "        if ld['type'] == 'CHECKOUT':\n",
    "            checked_out += 1\n",
    "            if checked_out > max_checked_out:\n",
    "                max_checked_out = checked_out\n",
    "                max_checked_out_date = ld['date']\n",
    "        else:\n",
    "            checked_out -= 1\n",
    "            \n",
    "    rows.append({\n",
    "        'Item Type': item_type.name, 'Types Of Items': item_type_count,\n",
    "        'Item Count': count, 'Disabled Item Count': disabled_count, 'Active Item Count': active_count,\n",
    "        'Max Checked Out': max_checked_out, 'Max Checked Out Date': max_checked_out_date\n",
    "    })\n",
    "\n",
    "item_type_stats = pd.DataFrame(rows)\n",
    "item_type_stats = item_type_stats.set_index(keys=['Item Type'])\n",
    "\n",
    "item_type_stats"
   ]
  },
  {
   "cell_type": "code",
   "execution_count": null,
   "id": "98c382b8-b0d7-4679-86e0-add10059f91b",
   "metadata": {},
   "outputs": [],
   "source": [
    "# Add a column representing the \"utilization\" of the item.\n",
    "#\n",
    "# For now, we're counting utilization as the maximum number checked out ever, divided by the current number of active items.\n",
    "\n",
    "with_inventory = item_type_stats[item_type_stats['Item Count'] > 0]\n",
    "\n",
    "with_utilization = pd.DataFrame(with_inventory)\n",
    "# Round percentages to the nearest whole number for simplicity\n",
    "with_utilization['Utilization'] = (100 * with_utilization['Max Checked Out'] / with_utilization['Active Item Count']).round(1)\n",
    "\n",
    "with_utilization.sort_values(by=['Utilization'], ascending=False)"
   ]
  },
  {
   "cell_type": "code",
   "execution_count": null,
   "id": "912dc478-15d2-478f-8c62-29c29e8fc5f9",
   "metadata": {},
   "outputs": [],
   "source": [
    "# Print the item_type_stats with the \"Utilization\" column in the order the \"Item Type\"s are listed in the\n",
    "# original data/input/item_types.csv (ordered in depth first search order).\n",
    "\n",
    "with_utilization.to_csv('data/output/item_type_stats.csv')\n",
    "with_utilization.to_pickle('data/output/item_type_stats.pkl')"
   ]
  },
  {
   "cell_type": "code",
   "execution_count": null,
   "id": "39fa7222-7eba-44d3-956f-0f7b44b8c0c2",
   "metadata": {},
   "outputs": [],
   "source": [
    "with_utilization.sort_values(by='Utilization', ascending=False).to_csv('data/output/temp_item_type_stats_sorted.csv')"
   ]
  },
  {
   "cell_type": "code",
   "execution_count": null,
   "id": "31b4e4e7-6dff-4d4e-9971-b6578e13085a",
   "metadata": {},
   "outputs": [],
   "source": [
    "# This table is challenging to use.\n",
    "#\n",
    "# * The peak utilization is sometimes a weird checkout - like the one user who checked out 3 hatches at once and got robbed.\n",
    "# * Very specific item categories cause a lot of noise (\"Crowbar With Chisel Ends\"). I don't actually care if we're out of\n",
    "#   these, just whether users can get a crowbar. Not sure if I should make a list of these and exclude/mark them, if there's\n",
    "#   an underlying problem with MyTurn's Item Types, or if I should hide/group this."
   ]
  },
  {
   "cell_type": "code",
   "execution_count": null,
   "id": "e4be6dd4-0ed7-4cc2-b0d5-26997a2b1d17",
   "metadata": {},
   "outputs": [],
   "source": [
    "with_utilization.loc[['Hammer Drills']]"
   ]
  },
  {
   "cell_type": "code",
   "execution_count": null,
   "id": "a9e7e4bc-4f34-4e60-8dab-76590b07a0f4",
   "metadata": {},
   "outputs": [],
   "source": [
    "# TODO: Is this actually useful?\n",
    "#\n",
    "# * When sub-item types are similar, it can raise a false alarm (no \"Crowbars\", but plenty of \"Crowbars With Chisel Ends\")"
   ]
  }
 ],
 "metadata": {
  "kernelspec": {
   "display_name": "Python 3 (ipykernel)",
   "language": "python",
   "name": "python3"
  },
  "language_info": {
   "codemirror_mode": {
    "name": "ipython",
    "version": 3
   },
   "file_extension": ".py",
   "mimetype": "text/x-python",
   "name": "python",
   "nbconvert_exporter": "python",
   "pygments_lexer": "ipython3",
   "version": "3.10.5"
  }
 },
 "nbformat": 4,
 "nbformat_minor": 5
}
