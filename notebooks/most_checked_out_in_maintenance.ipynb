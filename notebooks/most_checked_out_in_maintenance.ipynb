{
 "cells": [
  {
   "cell_type": "code",
   "execution_count": null,
   "id": "9ac40a10-1e10-401f-82e7-1f6b2f75043b",
   "metadata": {},
   "outputs": [],
   "source": [
    "import pandas as pd\n",
    "\n",
    "items = pd.read_pickle('~/chtl-data/processed/inventory.pkl')\n",
    "in_maintenance = items[items['In Maintenance'] & ~(items['Disabled'] | items['Not Fixable'] | items['Lost In Shop'])]"
   ]
  },
  {
   "cell_type": "code",
   "execution_count": null,
   "id": "81f2407f-8581-4ff6-aaf0-4a5115b2d531",
   "metadata": {},
   "outputs": [],
   "source": [
    "loans = pd.read_pickle('~/chtl-data/processed/loans.pkl')\n",
    "loans_in_maintenance = loans[loans['Item ID'].isin(in_maintenance['Item ID'])]\n",
    "loans_in_maintenance.groupby(by='Item ID')['Item ID'].count().sort_values(ascending=False)[:20]"
   ]
  },
  {
   "cell_type": "code",
   "execution_count": null,
   "id": "d0d36f2c-beb6-4b63-8193-6fbf85bb22ac",
   "metadata": {},
   "outputs": [],
   "source": [
    "from datetime import datetime\n",
    "\n",
    "loans = pd.read_pickle('~/chtl-data/processed/loans.pkl')\n",
    "items = pd.read_pickle('/home/max/chtl-data/processed/inventory.pkl')\n",
    "items = items.set_index(\"Item ID\")\n",
    "joined = loans.join(items, on=\"Item ID\", lsuffix=\"-l\")\n",
    "item_type_overrides = {\"Cordless Drills\": \"Power Drills\", \"Drills\": \"Power Drills\", \"Power Drill 3/8in\": \"Power Drills\", \"Flat Screwdrivers\": \"Screwdrivers\", \"Finishing Power Sanders\": \"Sanders\"}\n",
    "for k, v in item_type_overrides.items():\n",
    "    joined.loc[joined[\"Item Type\"] == k, \"Item Type\"] = v\n",
    "    items.loc[items[\"Item Type\"] == k, \"Item Type\"] = v\n",
    "\n",
    "item_id_type_overrides = { 3894: \"Automotive Tools\"}\n",
    "for k, v in item_id_type_overrides.items():\n",
    "    joined.loc[joined[\"Item ID\"] == k, \"Item Type\"] = v\n",
    "    items.loc[k, \"Item Type\"] = v\n",
    "\n",
    "in_maintenance = items[items['In Maintenance'] & ~(items['Disabled'] | items['Not Fixable'] | items['Lost In Shop'])]\n",
    "\n",
    "very_overdue = loans[(loans[\"Due Date\"] < datetime(2024, 9, 1)) & pd.isna(loans['Checked In'])]\n",
    "very_overdue = very_overdue.set_index(\"Item ID\")\n",
    "# Custom functions to combine some groups\n",
    "item_type_popularity = joined.groupby([\"Item Type\"]).size()\n",
    "enabled_items = items[~(items[\"Disabled\"] | items[\"Shop Use Only\"] | items[\"Lost By Member\"] | items[\"Lost In Shop\"] | items[\"Not Fixable\"] | items[\"In Maintenance\"])]\n",
    "items_w_overdue_info = enabled_items.join(very_overdue, rsuffix=\"-overdue\")\n",
    "item_type_count = items_w_overdue_info[items_w_overdue_info['index'].isna()].groupby([\"Item Type\"]).size()\n",
    "with_popularity = in_maintenance.join(item_type_popularity.rename(\"Item Type Loan Count\"), on=\"Item Type\").join(item_type_count.rename(\"Item Type Available Item Count\"), on=\"Item Type\")\n",
    "with_popularity[\"Usage Ratio\"] = (with_popularity[\"Item Type Loan Count\"] / with_popularity[\"Item Type Available Item Count\"]).round(0)\n",
    "with_popularity.sort_values(by=\"Usage Ratio\", ascending=False)[[ \"Item Type\", \"Name\", \"Disabled\", \"Item Type Loan Count\", \"Item Type Available Item Count\", \"Usage Ratio\"]].to_csv(\"~/chtl-data/reports/maintenance-by-usage-ratio.csv\")\n"
   ]
  },
  {
   "cell_type": "code",
   "execution_count": null,
   "id": "fbd5d6ca-f391-4694-b4a2-425201a240dc",
   "metadata": {},
   "outputs": [],
   "source": [
    "item_type_count[ \"Power Drills\"]\n",
    "# items_w_overdue_info[items_w_overdue_info[\"Item Type\"] == \"Power Drills\"]\n",
    "# item_type_count[item_type_count[\"Item Type\"] == \"Power Drills\"]\n",
    "# enabled_items[enabled_items[\"Item ID\"] == 3751]\n",
    "# .join(very_overdue, on=\"Item ID\", rsuffix=\"-OVERDUE\")\n",
    "items.iloc[1]"
   ]
  }
 ],
 "metadata": {
  "kernelspec": {
   "display_name": "Python 3 (ipykernel)",
   "language": "python",
   "name": "python3"
  },
  "language_info": {
   "codemirror_mode": {
    "name": "ipython",
    "version": 3
   },
   "file_extension": ".py",
   "mimetype": "text/x-python",
   "name": "python",
   "nbconvert_exporter": "python",
   "pygments_lexer": "ipython3",
   "version": "3.12.6"
  }
 },
 "nbformat": 4,
 "nbformat_minor": 5
}
