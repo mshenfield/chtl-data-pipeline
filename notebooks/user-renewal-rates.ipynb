{
 "cells": [
  {
   "cell_type": "code",
   "execution_count": null,
   "id": "bd7f0539-23d2-4176-840e-8884282da4fe",
   "metadata": {},
   "outputs": [],
   "source": [
    "\"\"\"\n",
    "Calculate the trailing one year member renewal rate.\n",
    "\n",
    "- TODO: make the trailing period configurable.\n",
    "\n",
    "Any time a member renews and they've previously had an active membership, consider it a renewal.\n",
    "As a result, the renewal rate can retroactively change.\n",
    "\"\"\"\n",
    "import pandas as pd\n",
    "\n",
    "DATA_HOME = \"~/chtl/data\"\n",
    "users = pd.read_pickle(f'{DATA_HOME}/processed/users.pkl')\n",
    "users.dtypes"
   ]
  },
  {
   "cell_type": "code",
   "execution_count": null,
   "id": "ce107ea2-8bc4-47ba-ad97-b6a0c54770e2",
   "metadata": {},
   "outputs": [],
   "source": [
    "# Some exploration of the data. Are there any memberships with 'First Membership Started' and a\n",
    "# 'Current Membership Type' other than 'Prospective'\n",
    "#\n",
    "# Nope! Just 'Prospective'\n",
    "\n",
    "set(users[users['First Membership Started'].isna()]['Current Membership Type'])"
   ]
  },
  {
   "cell_type": "code",
   "execution_count": null,
   "id": "fc2a5121-52b2-47e6-abf8-2fb4feec05c2",
   "metadata": {},
   "outputs": [],
   "source": [
    "activated_users = users[users['Current Membership Type'] != 'Prospective']\n",
    "len(activated_users)"
   ]
  },
  {
   "cell_type": "code",
   "execution_count": null,
   "id": "641b4118-55de-439e-b963-900921a8e47c",
   "metadata": {},
   "outputs": [],
   "source": [
    "# What about memberships that seem expired? Do they have multiple statuses?\n",
    "#\n",
    "# The 'Current Membership Type' doesn't change.\n",
    "from datetime import datetime\n",
    "\n",
    "expired_users = activated_users[activated_users['Expiration'] < datetime.now()]\n",
    "set(expired_users['Current Membership Type'])"
   ]
  },
  {
   "cell_type": "code",
   "execution_count": null,
   "id": "766871dd-5779-4a19-b5a6-a18f8be4a39f",
   "metadata": {},
   "outputs": [],
   "source": [
    "#\n",
    "# Gets complicated preeeeeeettty quick. For now let's just exclude members created within\n",
    "# the last year. Properly done would mean excluding members based on the type ('Standard (Monthly)')\n",
    "from datetime import datetime, timedelta\n",
    "\n",
    "year_ago = datetime.now() - timedelta(weeks=52)\n",
    "\n",
    "expirable_users = activated_users[activated_users['First Membership Started'] < year_ago]\n",
    "expirable_users"
   ]
  },
  {
   "cell_type": "code",
   "execution_count": null,
   "id": "c73ce862-1544-4818-b899-b70811e37ee3",
   "metadata": {},
   "outputs": [],
   "source": [
    "# Lifetime renewal rate is 15.3% as of 2025\n",
    "f'{1 - (len(expired_users)/len(expirable_users)):.1%}'"
   ]
  },
  {
   "cell_type": "code",
   "execution_count": null,
   "id": "1c8d15b4-531d-447e-8258-607b9a45a033",
   "metadata": {},
   "outputs": [],
   "source": [
    "# If we want to see \"how many people are renewing this month\", that's different\n",
    "# then \"how many people eventually renew given a long enough tail\".\n",
    "#\n",
    "# Let's start with trailing \"people who renewed within \"registration period\".\n",
    "#\n",
    "# When they renew twice, we lose that granularity. We'd have to look at the actual\n",
    "# transactions. Maybe for each member, create a group of \"membership created\", \"membership renewed\"\n",
    "# etc.\n",
    "\n",
    "# Group transacitons by membership ID?\n",
    "txns = pd.read_pickle(f'{DATA_HOME}/processed/transactions.pkl')\n",
    "# set(txns[~txns['Transaction Type'].isna()]['Transaction Type'])\n",
    "# {'Check Out', 'Check Out (Renewal)', 'Donation', 'Late Fee', 'Loan Fee', 'Loan Return',\n",
    "# 'Membership Change', 'Membership Extension', 'Membership Fee', 'Other'}\n",
    "\n",
    "# set(txns[~txns['Item Type'].isna()]['Item Type'])\n",
    "# Nothing? Nothing.\n",
    "\n",
    "renewals_maybe = txns[(txns['Transaction Type'] == 'Membership Change') & (txns['Membership Type'] != 'Prospective')]\n"
   ]
  },
  {
   "cell_type": "code",
   "execution_count": null,
   "id": "cec352e3-e642-4d8c-8898-aa9ec9a4606a",
   "metadata": {},
   "outputs": [],
   "source": [
    "txns[txns['Transaction Type'] == 'Membership Extension']"
   ]
  },
  {
   "cell_type": "code",
   "execution_count": null,
   "id": "8aeff384-a8db-4b50-aaac-4b01414bedd9",
   "metadata": {},
   "outputs": [],
   "source": [
    "# users[users['Membership ID'] == '8366']\n",
    "users[users['Membership ID'] == '2291']\n"
   ]
  },
  {
   "cell_type": "code",
   "execution_count": null,
   "id": "237c6c87-fc28-41a7-89ab-9b5b45d6bd8a",
   "metadata": {},
   "outputs": [],
   "source": [
    "txns[txns['Transaction ID'] == 2134991]\n",
    "txns[txns['Member ID'] == '8366'][:30]"
   ]
  },
  {
   "cell_type": "code",
   "execution_count": null,
   "id": "dd41d1ec-a67c-4c82-8372-00d65c9a1535",
   "metadata": {},
   "outputs": [],
   "source": [
    "# Yikes. All the ways you can renew a membership.\n",
    "#\n",
    "# Do my best....\n",
    "#\n",
    "# \n",
    "\"\"\"\n",
    "Transaction Type = 'Membership Fee'\n",
    "* If it's on the same day as \"First Membership Started\", then it is the first membership.\n",
    "* Otherwise it is the renewal.\n",
    "\n",
    "Transaction Type = 'Membership Change'\n",
    "* 'Membership Type' = 'Prospective' then it's the membership creation\n",
    "* 'Membership Type' != 'Prospective' then it is be a renewal, or actual change of membership. We'll assume renewal.\n",
    "\n",
    "- For each member it might be better to group the transactions into a \"creation\", and \"fee\", and \"change\".\n",
    "- Each time there's a fee or change, we should compare it to the expiration date and the expected renewal\n",
    "period.\n",
    "\n",
    "The best I think I can do is:\n",
    "\n",
    "for each member\n",
    "    iterate through their transactions, and create a renewal log.\n",
    "      If it's less than a year then it's an early renewal. If the membership type was the same then it\n",
    "        maybe extends by a year?\n",
    "      If it's special-automated-processes then it's an auto-renew\n",
    "\n",
    "What will I do with a log?  For each month, look at the members that were expiring in the X few months (based on\n",
    "the renewal log), and then calculate how many renewed within those X few months (or within a year).\n",
    "\"\"\"\n",
    "inv = pd.read_pickle(f'{DATA_HOME}/processed/inventory.pkl')\n",
    "inv.dtypes"
   ]
  },
  {
   "cell_type": "code",
   "execution_count": null,
   "id": "d51c1f3d-ff24-4231-ae54-3100133e926f",
   "metadata": {},
   "outputs": [],
   "source": [
    "# Data structure I want is a row for each time a member renewed, including:\n",
    "#\n",
    "# * Member ID\n",
    "# * Date\n",
    "# * Previous Expiration Date\n",
    "# * New Expiration Date\n",
    "# * Renewal Date\n",
    "# \n",
    "# Take a slice of the users who had expiration time in the preceding window\n",
    "# Then take a slice of the user who renewed during that time.\n",
    "from datetime import timedelta\n",
    "\n",
    "membership_txns_by_member_asc = txns[\n",
    "    txns['Transaction Type'].isin({'Membership Change', 'Membership Fee'})\n",
    "    ].sort_values(['Member ID', 'Date'], ascending=True).groupby(['Member ID'])\n",
    "\n",
    "membership_type_to_extension_amount = {\n",
    "    'regular': timedelta(weeks=52),\n",
    "    'Standard (Annual)': timedelta(weeks=52),\n",
    "    'Flexible': timedelta(weeks=52),\n",
    "    'Sustaining (Annual)': timedelta(weeks=52),\n",
    "    'Standard (Monthly)': timedelta(days=31),\n",
    "    # 'Extremely Overdue Items': timedelta(weeks=500),\n",
    "    # 'Shop Use Only': timedelta(weeks=500),\n",
    "}\n",
    "\n",
    "def get_renewal(txn, prev_txn, prev_renewal):\n",
    "    # Skip account creation, bannign users, shop users\n",
    "    if txn['Transaction Type'] == 'Membership Change' and txn['Membership Type'] in {'Prospective', 'ExtremelyOverdueItems', 'Shop Use Only', 'Discontinued'}:\n",
    "        return None\n",
    "    # Try to avoid double entries when there's both a 'Membership Fee' and 'Membership Change' for the same action\n",
    "    if txn['Transaction Type'] == 'Membership Fee' and prev_txn is not None and prev_renewal is not None and ((txn['Date'] - prev_txn['Date']) < timedelta(minutes=5)):\n",
    "        return None\n",
    "\n",
    "    ext_amount = membership_type_to_extension_amount[txn['Membership Type']]\n",
    "    if prev_renewal is None:\n",
    "        # Extend from current date\n",
    "        new_exp = txn['Date'] + ext_amount\n",
    "    else:\n",
    "        # If the membership type stays the same, by default it extends out a year from greater of current\n",
    "        # expiration date, or current date.\n",
    "        if prev_renewal['Membership Type'] == txn['Membership Type']:\n",
    "            new_exp = max(txn['Date'], prev_renewal['Expiration Date']) + ext_amount\n",
    "        else:\n",
    "            # Otherwise it always extends from current date\n",
    "            new_exp = txn['Date'] + ext_amount\n",
    "    return {\n",
    "        'Member ID': member_id,\n",
    "        'Date': txn['Date'],\n",
    "        'Membership Type': txn['Membership Type'],\n",
    "        'Expiration Date': new_exp\n",
    "    }\n",
    "            \n",
    "renewal_log = []\n",
    "\n",
    "for (member_id,), member_txns in membership_txns_by_member_asc:\n",
    "    prev_txn = None\n",
    "    prev_renewal = None\n",
    "    for _, txn in member_txns.iterrows():\n",
    "        renewal = get_renewal(txn, prev_txn, prev_renewal)\n",
    "        if renewal is not None:\n",
    "            renewal_log.append(renewal)\n",
    "        prev_txn = txn\n",
    "        prev_renewal = renewal\n",
    "\n",
    "renewal_log = pd.DataFrame(renewal_log)\n",
    "renewal_log"
   ]
  },
  {
   "cell_type": "code",
   "execution_count": null,
   "id": "c6cf72c8-ad64-4707-8af7-fa8b2514d1aa",
   "metadata": {},
   "outputs": [],
   "source": [
    "renewal_log[renewal_log['Member ID'] == '8037']"
   ]
  },
  {
   "cell_type": "code",
   "execution_count": null,
   "id": "a6df7520-7ae3-4fa7-b8d0-80a0180ccb2b",
   "metadata": {},
   "outputs": [],
   "source": [
    "txns[txns['Member ID'] == '2291']"
   ]
  },
  {
   "cell_type": "code",
   "execution_count": null,
   "id": "d2ce2401-fcf1-4584-8040-f39b68ae8c64",
   "metadata": {},
   "outputs": [],
   "source": [
    "txns[txns['Member ID'] == '8037']"
   ]
  },
  {
   "cell_type": "code",
   "execution_count": null,
   "id": "d14463bf-5397-4c7f-9c13-3cdfc661f0de",
   "metadata": {},
   "outputs": [],
   "source": [
    "from datetime import datetime, timedelta\n",
    "import matplotlib.ticker as mtick\n",
    "import pandas as pd\n",
    "\n",
    "grace_period = timedelta(weeks=26)\n",
    "averaging_period = timedelta(weeks=13)\n",
    "\n",
    "# We didn't start seeing expiring memberships until a year after we started in late July 2016.\n",
    "# The graph only starts after the initial grace period and ends before it, so that we always have a complete\n",
    "# data set and are comparing apples to apples.\n",
    "ix = pd.period_range(start=datetime(2017, 8, 1) + grace_period, end=datetime.now() - grace_period,freq=\"M\")\n",
    "series = []\n",
    "member_series = []\n",
    "for p in ix:\n",
    "    now = p.start_time\n",
    "    # Start at the averaging period less the grace period, so we can check the full grace period now.\n",
    "    period_start = now - averaging_period - grace_period\n",
    "    period_end = now - grace_period\n",
    "\n",
    "    trailing = renewal_log[(renewal_log['Expiration Date'] >= period_start) & (renewal_log['Expiration Date'] < period_end)]\n",
    "    member_ids = set(trailing['Member ID'])\n",
    "    renewed_member_ids = set(\n",
    "        renewal_log[\n",
    "            renewal_log['Member ID'].isin(member_ids) & (renewal_log['Expiration Date'] >= period_end) & (renewal_log['Date'] < now)\n",
    "        ]['Member ID']\n",
    "    )\n",
    "    # print(now, len(member_ids), renewed_member_ids)\n",
    "    if member_ids:\n",
    "        series.append(len(renewed_member_ids)/len(member_ids))\n",
    "    else:\n",
    "        series.append(0)\n",
    "\n",
    "graph = pd.DataFrame(series, index=ix).plot(title=f\"Preceding {averaging_period.days // 30} Month Average Renewal Rate, Up To {grace_period.days // 30} Months After Expiration\", xlabel=\"Year\", ylabel=\"%\", legend=False)\n",
    "graph.yaxis.set_major_formatter(mtick.PercentFormatter(xmax=1))\n",
    "# Renewal rate is for membership started a year ago, and have been renewed within three months of expiration\n"
   ]
  },
  {
   "cell_type": "code",
   "execution_count": null,
   "id": "91e872ce-9b56-4ed0-bd73-a5582f31e74c",
   "metadata": {},
   "outputs": [],
   "source": [
    "renewal_log.to_csv(\"~/chtl/data/processed/renewal_log.csv\")"
   ]
  },
  {
   "cell_type": "code",
   "execution_count": null,
   "id": "837cf356-6669-4223-873b-0c05b60df2c3",
   "metadata": {},
   "outputs": [],
   "source": []
  }
 ],
 "metadata": {
  "kernelspec": {
   "display_name": "Python 3 (ipykernel)",
   "language": "python",
   "name": "python3"
  },
  "language_info": {
   "codemirror_mode": {
    "name": "ipython",
    "version": 3
   },
   "file_extension": ".py",
   "mimetype": "text/x-python",
   "name": "python",
   "nbconvert_exporter": "python",
   "pygments_lexer": "ipython3",
   "version": "3.11.2"
  }
 },
 "nbformat": 4,
 "nbformat_minor": 5
}
