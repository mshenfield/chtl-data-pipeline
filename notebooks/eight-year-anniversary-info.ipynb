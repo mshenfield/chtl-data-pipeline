{
 "cells": [
  {
   "cell_type": "markdown",
   "id": "1cedb544-504a-4fb3-af1d-5f9157992e94",
   "metadata": {},
   "source": [
    "# April 2024 - CHTL Turns 8 Years Old\n",
    "\n",
    "This notebook is some data collected for CHTL's 8 year anniversary. It might be useful for generating data for other milestones."
   ]
  },
  {
   "cell_type": "code",
   "execution_count": null,
   "id": "6e62aeb3-38fe-4302-8b3c-b1483448fd71",
   "metadata": {
    "editable": true,
    "slideshow": {
     "slide_type": ""
    },
    "tags": []
   },
   "outputs": [],
   "source": [
    "# Generate total number of users who have come in and completed registration\n",
    "import pandas as pd\n",
    "\n",
    "members = pd.read_pickle('data/output/members.pkl')\n",
    "\n",
    "# \"count\" only counts non-na, and 'First Membership Started' is NA if they just registered online\n",
    "total_who_completed_signup = members['First Membership Started'].count()\n",
    "\n",
    "print(f\"{total_who_completed_signup:,} folks have used the tool library\")"
   ]
  },
  {
   "cell_type": "code",
   "execution_count": null,
   "id": "6c55d99f-7a63-4f99-b3e4-27c5998baad5",
   "metadata": {},
   "outputs": [],
   "source": [
    "# Find the most checked out items\n",
    "import pandas as pd\n",
    "\n",
    "loans = pd.read_pickle('data/output/loans.pkl')\n",
    "items = pd.read_pickle('data/output/inventory.pkl')\n",
    "\n",
    "top_20 = loans.groupby('Item ID')['index'].count().sort_values(ascending=False)[:20]\n",
    "by_item_id = items.reindex(items['Item ID'])"
   ]
  },
  {
   "cell_type": "code",
   "execution_count": null,
   "id": "e02e72e6-4098-4f1e-95e4-08caba27cc0f",
   "metadata": {
    "editable": true,
    "jupyter": {
     "outputs_hidden": true
    },
    "slideshow": {
     "slide_type": ""
    },
    "tags": []
   },
   "outputs": [],
   "source": [
    "# top_20.index.values\n",
    "top_20\n",
    "\n",
    "result = []\n",
    "for item_id, count in top_20.items():\n",
    "  result.append((count, items[items['Item ID'] == item_id].iloc[0]))\n",
    "\n",
    "result"
   ]
  },
  {
   "cell_type": "code",
   "execution_count": null,
   "id": "b699bd9c-3a9c-43db-9b21-0b88dc027de3",
   "metadata": {},
   "outputs": [],
   "source": [
    "top_20\n",
    "\n",
    "\"\"\"\n",
    "A giant step ladder: https://capitolhill.myturn.com/library/inventory/show/117497 53 loans\n",
    "A trusty stud finder: https://capitolhill.myturn.com/library/inventory/show/239940 46 loans\n",
    "A handy mallet: https://capitolhill.myturn.com/library/inventory/show/263081 45 loans\n",
    "A sweet cordless drill set https://capitolhill.myturn.com/library/inventory/show/471830 44 loans\n",
    "A giant level https://capitolhill.myturn.com/library/inventory/show/120501 44 loans\n",
    "A tireless jigsaw https://capitolhill.myturn.com/library/inventory/show/270691 43 loans\n",
    "A stalwart bit set https://capitolhill.myturn.com/library/inventory/show/113051 42 loans\n",
    "Our favorite handtruck https://capitolhill.myturn.com/library/inventory/show/130431 42 loans\n",
    "\"\"\""
   ]
  },
  {
   "cell_type": "code",
   "execution_count": null,
   "id": "fe600b33-57bf-45fe-a4a8-0f124763b997",
   "metadata": {},
   "outputs": [],
   "source": [
    "# Total checkouts and items loaned\n",
    "import pandas as pd\n",
    "checkouts = pd.read_pickle('data/output/checkouts.pkl')\n",
    "print(checkouts.index.size)\n",
    "loans = pd.read_pickle('data/output/loans.pkl')\n",
    "print(loans.index.size)\n",
    "\n",
    "loans.groupby('Item ID')['index'].count().sort_values(ascending=False)[loans['Item ID'] == 8]"
   ]
  }
 ],
 "metadata": {
  "kernelspec": {
   "display_name": "Python 3 (ipykernel)",
   "language": "python",
   "name": "python3"
  },
  "language_info": {
   "codemirror_mode": {
    "name": "ipython",
    "version": 3
   },
   "file_extension": ".py",
   "mimetype": "text/x-python",
   "name": "python",
   "nbconvert_exporter": "python",
   "pygments_lexer": "ipython3",
   "version": "3.11.6"
  }
 },
 "nbformat": 4,
 "nbformat_minor": 5
}
