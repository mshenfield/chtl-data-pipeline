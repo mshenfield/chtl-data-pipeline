{
 "cells": [
  {
   "cell_type": "markdown",
   "id": "65dbcd18-b218-45d3-b517-26007456a0f0",
   "metadata": {
    "tags": []
   },
   "source": [
    "# Sustainable Capitol Hill 2024 Q3 Meeting"
   ]
  },
  {
   "cell_type": "code",
   "execution_count": null,
   "id": "a12b7fe8-bea7-46d8-8b90-d1f6a867bead",
   "metadata": {
    "editable": true,
    "jupyter": {
     "source_hidden": true
    },
    "slideshow": {
     "slide_type": ""
    },
    "tags": []
   },
   "outputs": [],
   "source": [
    "import numpy as np\n",
    "import pandas as pd\n",
    "\n",
    "members = pd.read_pickle('~/chtl-data/processed/users.pkl')\n",
    "\n",
    "def to_month(timestamp_series):\n",
    "    return timestamp_series.apply(lambda t: pd.Timestamp(t.year, t.month, 1))\n",
    "\n",
    "member_dates = pd.DataFrame(\n",
    "    {\n",
    "        'Online Sign-Up Count': members['Created'].groupby(to_month(members['Created'])).size().asfreq('MS',fill_value=0),\n",
    "        'In Person Activation Count ': members['First Membership Started'].groupby(to_month(members['First Membership Started'])).size().asfreq('MS',fill_value=0)\n",
    "    },\n",
    "    index=pd.date_range(freq='MS', start=pd.Timestamp('2018-01-01'), end=pd.Timestamp('2024-09-15'))\n",
    ")\n",
    "\n",
    "graph = member_dates.plot(\n",
    "    title='Online Sign-ups And In-Person Activations Per Month',\n",
    "    figsize=(10, 6),\n",
    "    ylabel='Count',\n",
    "    ylim=(0,160),\n",
    ")"
   ]
  },
  {
   "cell_type": "code",
   "execution_count": null,
   "id": "adf4ae83-9a39-446d-beef-bc73f756383a",
   "metadata": {
    "jupyter": {
     "source_hidden": true
    },
    "tags": []
   },
   "outputs": [],
   "source": [
    "import pandas as pd\n",
    "from datetime import date\n",
    "\n",
    "checkouts = pd.read_pickle('~/chtl-data/processed/checkouts.pkl')\n",
    "checkouts['Month'] = pd.to_datetime(checkouts['Checked Out'].map(lambda c: date(c.year, c.month, 1)))\n",
    "checkouts['Year'] = checkouts['Checked Out'].map(lambda c: c.year)\n",
    "# Exclude 2015 (tool library not fully open) and current year if it is only a month or two in.\n",
    "recent_years = checkouts[checkouts['Year'].isin([2018, 2019, 2020, 2021, 2022, 2023, 2024])]\n",
    "by_month = recent_years.groupby('Month').size().asfreq('MS', fill_value=0)\n",
    "\n",
    "# Save to a variable so the __str__ doesn't get displayed\n",
    "graph = by_month.plot(figsize=(10, 6), title='Checkouts Per Month', ylabel='Count', ylim=0)"
   ]
  },
  {
   "cell_type": "code",
   "execution_count": null,
   "id": "74ef2353-8e13-499d-97ab-774e609a0385",
   "metadata": {
    "jupyter": {
     "source_hidden": true
    },
    "tags": []
   },
   "outputs": [],
   "source": [
    "from datetime import date\n",
    "import pandas as pd\n",
    "\n",
    "loans = pd.read_pickle('~/chtl-data/processed/loans.pkl')\n",
    "loans['Length'] = loans['Checked In'].fillna(pd.to_datetime(date.today())) - loans['Checked Out']\n",
    "# Grouping by the \"Year\" it was checked out artificially reduces the most recent years loan length.\n",
    "# Previous years get all unreturned items counted for the whole year. In the current year there isn't\n",
    "# enough time for those to add up yet.\n",
    "loans['Year'] = loans['Checked Out'].map(lambda c: c.year)\n",
    "recent_years = loans[loans['Year'].isin([2018, 2019, 2020, 2021, 2022, 2023])]\n",
    "\n",
    "by_year = pd.DataFrame({'Days': recent_years['Length'].map(lambda l: l.days), 'Year': recent_years['Year']})\n",
    "graph = by_year.pivot(columns='Year', values='Days').plot.box(\n",
    "    # \"fliers\" in plt parlance are outliers.  We don't show them here because there are so many, they make the\n",
    "    # rest of the plot much harder to read.  The gist is that a few loans are just never returned.\n",
    "    showfliers=False,\n",
    "    figsize=(10, 6),\n",
    "    title='Item Loan Length',\n",
    "    ylabel='Days Loaned',\n",
    ")"
   ]
  },
  {
   "cell_type": "markdown",
   "id": "8c26e5dc-fb0f-45b5-a5ab-d1a7b5388b16",
   "metadata": {},
   "source": [
    "## Member Stories\n",
    "\n",
    "These are some of the projects I've heard people mention during my shifts:\n",
    "\n",
    "> I am refinishing my industrial loft\n",
    "\n",
    "> I added a hole to my belt loop while I was in the back\n",
    "\n",
    "> I just moved to Seattle, and want to hang a shelf but don't have any tools.\n",
    "\n",
    "> Someone just broke up with me 5 minute ago and I need to agressively cut wood\n",
    "\n",
    "> I'd like to shorten this bit of metal shelving.\n",
    "\n",
    "> I'm demolishing my kitchen."
   ]
  },
  {
   "cell_type": "markdown",
   "id": "d56495b9-bd45-4eb5-8687-8d721aaec418",
   "metadata": {},
   "source": [
    "## Income\n",
    "\n",
    "### \\\\$10k revenue - \\\\$5k expenses = \\\\$5k net income\n",
    "\n",
    "## Revenue\n",
    "\n",
    "The Capitol Hill Tool Library gets revenue from in-person donations, donations directly to Sustainable Capitol Hill via corporate giving platforms, and interest on our reserves. CHTL stopped charging late fees midway through 2024."
   ]
  },
  {
   "cell_type": "markdown",
   "id": "13c8ca28-4bd4-4b1b-9cde-81ebddb53c25",
   "metadata": {},
   "source": [
    "### In-Person Donations\n",
    "\n",
    "In 2024, we received \\\\$7,350 in credit card membership donations, another \\\\$2k in cash donations. These are mostly membership donations, but occasionally include one-off donations and people voluntarily donating after returning late items. The average in-person donation is about \\\\$10, lower than it's been in previous years"
   ]
  },
  {
   "cell_type": "markdown",
   "id": "c2ecf12d-1d5d-4cc0-b7bb-e621d4ff07c5",
   "metadata": {
    "tags": []
   },
   "source": [
    "### Corporate Giving Platforms\n",
    "\n",
    "CHTL has a Benevity account set up to receive direct donations from employees of large corporations like Microsoft and Google.  We received an additional ~$2,330 in these direct donations. "
   ]
  },
  {
   "cell_type": "markdown",
   "id": "b9ad5609-ba65-4c83-a505-2348aa59e720",
   "metadata": {
    "tags": []
   },
   "source": [
    "### Interest\n",
    "\n",
    "We've earned \\\\$327 in interest so far in 2024."
   ]
  },
  {
   "cell_type": "markdown",
   "id": "071aba4d-6c14-4786-95da-f9445bf22193",
   "metadata": {},
   "source": [
    "### Expenses\n",
    "\n",
    "Our primary expenses are money spent on tools (\\~$1.5k), insurance (\\~2k), and rent (\\~1.5k)."
   ]
  },
  {
   "cell_type": "markdown",
   "id": "85b5802b-5603-4826-aad2-4fb29e6f6b92",
   "metadata": {},
   "source": [
    "#### About This Report\n",
    "Code and instructions for playing with the Capitol Hill Tool Library data yourself are available at https://github.com/mshenfield/chtl-data-pipeline. Ask [Max Shenfield](https://app.slack.com/client/TAAD5LKJ4/D02BHR5J7J6/user_profile/U02BB35KMRU) for access.  The project is built using [Python](https://python.org), [Pandas](https://pandas.pydata.org/), and [Jupyter Notebook](https://jupyter.org/)."
   ]
  }
 ],
 "metadata": {
  "kernelspec": {
   "display_name": "Python 3 (ipykernel)",
   "language": "python",
   "name": "python3"
  },
  "language_info": {
   "codemirror_mode": {
    "name": "ipython",
    "version": 3
   },
   "file_extension": ".py",
   "mimetype": "text/x-python",
   "name": "python",
   "nbconvert_exporter": "python",
   "pygments_lexer": "ipython3",
   "version": "3.12.6"
  }
 },
 "nbformat": 4,
 "nbformat_minor": 5
}
