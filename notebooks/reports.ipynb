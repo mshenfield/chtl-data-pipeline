{
 "cells": [
  {
   "cell_type": "code",
   "execution_count": null,
   "id": "54eebbb3-712a-4e6c-bdd5-5dc1d3af8c26",
   "metadata": {
    "tags": []
   },
   "outputs": [],
   "source": [
    "# How many items do people checkout at once, typically?\n",
    "#\n",
    "# And, while we're here, how many checkouts did we see per year?\n",
    "import pandas as pd\n",
    "\n",
    "checkouts = pd.read_pickle('data/output/checkouts.pkl')\n",
    "checkouts['Year'] = checkouts['Checked Out'].map(lambda c: c.year)\n",
    "# Exclude 2015 (tool library not fully open) and current year if it is only a month or two in.\n",
    "checkouts_with_complete_years = checkouts[~checkouts['Year'].isin([2015])]\n",
    "\n",
    "print('How Many Items Do People Checkout At Once?')\n",
    "print(checkouts_with_complete_years.groupby('Year')['Item Count'].describe(percentiles=[.5, .75, .9, .99]).drop(columns=['count']).applymap(int))\n",
    "\n",
    "# Try to visualize the descriptions above, to show the distribution by day\n",
    "\n",
    "checkouts_with_complete_years.pivot(columns='Year', values='Item Count').plot.box(\n",
    "    # \"fliers\" in plt parlance are outliers.  We don't show them here because\n",
    "    # they are grouped together in a misleading/difficult to read way.\n",
    "    showfliers=False,\n",
    "    figsize=(10, 5),\n",
    "    title='How Many Items Do People Checkout At Once?',\n",
    "    ylabel='Items Per Checkout',\n",
    ")"
   ]
  },
  {
   "cell_type": "code",
   "execution_count": null,
   "id": "374f0263-f567-4d4b-ba5f-b7ac71d34071",
   "metadata": {
    "tags": []
   },
   "outputs": [],
   "source": [
    "checkouts_with_complete_years.groupby('Year').size(\n",
    ").plot(kind='bar', ylabel='Checkouts', rot=45, figsize=(15, 6), title='How Many Checkouts Occur Each Year?'),"
   ]
  },
  {
   "cell_type": "code",
   "execution_count": null,
   "id": "9ea04fcc-1f79-40fa-add7-a9052b0d47ab",
   "metadata": {
    "tags": []
   },
   "outputs": [],
   "source": [
    "from datetime import date\n",
    "import pandas as pd\n",
    "\n",
    "checkouts = pd.read_pickle('data/output/checkouts.pkl')\n",
    "checkouts['Month'] = pd.to_datetime(checkouts['Checked Out'].map(lambda c: date(c.year, c.month, 1)))\n",
    "checkouts['Year'] = checkouts['Checked Out'].map(lambda c: c.year)\n",
    "# Exclude 2015 (tool library not fully open) and current year if it is only a month or two in.\n",
    "checkouts_with_complete_years = checkouts[~checkouts['Year'].isin([2015])]\n",
    "\n",
    "checkouts_by_month = checkouts_with_complete_years.groupby('Month').size().asfreq('MS', fill_value=0)\n",
    "\n",
    "print('How Many Checkouts Occur In A Typical Month?')\n",
    "checkouts_by_month.describe(percentiles=[.25, .5, .75, .9]).apply(int).drop(index='count')"
   ]
  },
  {
   "cell_type": "code",
   "execution_count": null,
   "id": "363ab7d8-22d9-41ae-b01f-c20049212767",
   "metadata": {
    "tags": []
   },
   "outputs": [],
   "source": [
    "from datetime import date\n",
    "import pandas as pd\n",
    "\n",
    "loans = pd.read_pickle('data/output/loans.pkl')\n",
    "loans['Month'] = pd.to_datetime(loans['Checked Out'].map(lambda c: date(c.year, c.month, 1)))\n",
    "loans['Year'] = loans['Checked Out'].map(lambda c: date(c.year, c.month, 1))\n",
    "\n",
    "loans_with_complete_years = loans[~loans['Year'].isin([2015, 2022])]\n",
    "loans_by_month = loans_with_complete_years.groupby('Month').size().asfreq('MS', fill_value=0)\n",
    "\n",
    "print('How Many Items Are Loaned In A Typical Month?')\n",
    "loans_by_month.describe(percentiles=[.25, .5, .75, .9]).apply(int).drop(index='count')"
   ]
  },
  {
   "cell_type": "code",
   "execution_count": null,
   "id": "9fd05453-c744-4787-bba3-282f9af9c3d1",
   "metadata": {
    "tags": []
   },
   "outputs": [],
   "source": [
    "# Graph the number of items checked out, and check out events, for each month\n",
    "\n",
    "# Make a new df with a column for each\n",
    "loans_and_checkouts_by_month = pd.DataFrame({\n",
    "    'Items Checked Out': loans_by_month,\n",
    "    'Checkouts': checkouts_by_month,\n",
    "})\n",
    "loans_and_checkouts_by_month.plot(figsize=(15, 6), title='Are Checkouts And Items Loaned Per Month Very Different?', ylabel='Count', ylim=0)"
   ]
  },
  {
   "cell_type": "code",
   "execution_count": null,
   "id": "2f8334e6-227f-49c1-bc07-d114af8ee026",
   "metadata": {
    "tags": []
   },
   "outputs": [],
   "source": [
    "# Look at the distribution of the length of loans over time.\n",
    "from datetime import date\n",
    "import pandas as pd\n",
    "\n",
    "loans = pd.read_pickle('data/output/loans.pkl')\n",
    "loans['Length'] = loans['Checked In'].fillna(pd.to_datetime(date.today())) - loans['Checked Out']\n",
    "loans['Year'] = loans['Checked Out'].map(lambda c: c.year)\n",
    "# Exclude 2015 (tool library not fully opened yet) and the current year if we're not that far in yet\n",
    "loans_with_complete_years = loans[~loans['Year'].isin([2015])]\n",
    "\n",
    "print('How Many Days Is An Item Typically Loaned For?')\n",
    "loans_with_complete_years.groupby('Year').describe(\n",
    "    include='timedelta', percentiles=[.25, .5, .75, .95, .99]\n",
    "# Drop the 'count' column here, we have it elsewhere. Round each ovservation to the nearest day.\n",
    ")['Length'].drop(columns='count').applymap(lambda t: t.round(freq='D'))"
   ]
  },
  {
   "cell_type": "code",
   "execution_count": null,
   "id": "9dba013c-46a7-4a55-be4d-e84d8ad09bb6",
   "metadata": {
    "tags": []
   },
   "outputs": [],
   "source": [
    "# Try to visualize the descriptions above, to show the distribution by day\n",
    "loan_days_by_year = pd.DataFrame({'Days': loans_with_complete_years['Length'].map(lambda l: l.days), 'Year': loans_with_complete_years['Year']})\n",
    "loan_days_by_year.pivot(columns='Year', values='Days').plot.box(\n",
    "    # \"fliers\" in plt parlance are outliers.  We don't show them here because there are so many, they make the\n",
    "    # rest of the plot much harder to read.  The gist is that a few loans are just never returned.\n",
    "    showfliers=False,\n",
    "    grid=True,\n",
    "    figsize=(10, 6),\n",
    "    title='How Many Days Is An Item Typically Loaned For?',\n",
    "    ylabel='Days Loaned',\n",
    ")"
   ]
  },
  {
   "cell_type": "code",
   "execution_count": null,
   "id": "a5c417d5-8635-40d0-8f32-d951f302d67a",
   "metadata": {},
   "outputs": [],
   "source": [
    "# How many members sign up online, and eventually come in person to active, over time?\n",
    "import numpy as np\n",
    "import pandas as pd\n",
    "\n",
    "members = pd.read_pickle('data/output/members.pkl')\n",
    "\n",
    "def to_month(timestamp_series):\n",
    "    return timestamp_series.apply(lambda t: pd.Timestamp(t.year, t.month, 1))\n",
    "\n",
    "member_dates = pd.DataFrame(\n",
    "    {\n",
    "        'Online Sign-Up Count': members['Created'].groupby(to_month(members['Created'])).size().asfreq('MS',fill_value=0),\n",
    "        'In Person Activation Count ': members['First Membership Started'].groupby(to_month(members['First Membership Started'])).size().asfreq('MS',fill_value=0)\n",
    "    },\n",
    "    index=pd.date_range(freq='MS', start=pd.Timestamp('2016-01-01'), end=pd.Timestamp('2022-01-01'))\n",
    ")\n",
    "\n",
    "member_dates.plot(\n",
    "    title='How Many Members Sign Up Online And Activate In Person Each Month?',\n",
    "    figsize=(15, 6),\n",
    "    xlabel='Date',\n",
    "    ylabel='Count',\n",
    "    ylim=(0,100),\n",
    ")"
   ]
  },
  {
   "cell_type": "code",
   "execution_count": null,
   "id": "8f1737de-3fef-417c-b949-6cd79af90e08",
   "metadata": {
    "tags": []
   },
   "outputs": [],
   "source": [
    "# Do members continue to make checkouts after the first year?\n",
    "#\n",
    "# For each membership length in years, determine how many checkouts they make, on average,\n",
    "# per year.  Ideally this number would trend down slightly over time, indicating sustained\n",
    "# usage. Right now it drops sharply after the first year.\n",
    "\n",
    "import pandas as pd\n",
    "from datetime import date\n",
    "\n",
    "members = pd.read_pickle('data/output/members.pkl')\n",
    "active_members = pd.DataFrame(members[members['Current Membership Type'] != 'Request_CheckIDAddressPhoneDOB']).set_index('Membership ID')\n",
    "\n",
    "def membership_days(member):\n",
    "    t = pd.Timestamp(date.today())\n",
    "    # Use days - pd.Timedelta doesn't let us round to Years directly because it is a \"non-fixed frequency\"\n",
    "    # (e.g. there are leap years).\n",
    "    #\n",
    "    # Round up to nearest day.\n",
    "    return (t - member['First Membership Started']).round('D').days\n",
    "\n",
    "active_members['Membership Days'] = active_members.apply(membership_days, axis='columns')\n",
    "active_members['Membership Years'] = active_members['Membership Days'].apply(lambda days: days // 365)\n",
    "\n",
    "checkouts = pd.read_pickle('data/output/checkouts.pkl')\n",
    "checkouts['Year'] = checkouts['Checked Out'].map(lambda c: c.year)\n",
    "# Exclude 2015 (tool library not fully opened yet) and the current year if it isn't that far in.\n",
    "checkouts_with_complete_years = checkouts[~checkouts['Year'].isin([2015])]\n",
    "\n",
    "checkouts_per_member_per_day = checkouts_with_complete_years.groupby('Membership ID')['Membership ID'].size() / active_members['Membership Days']\n",
    "active_members['Checkouts Per Year'] = 365 * checkouts_per_member_per_day \n",
    "\n",
    "active_members.pivot(columns='Membership Years', values='Checkouts Per Year').drop(\n",
    "    # Remove the one 10 year old member from the plot (this number goes up every year!)\n",
    "    columns=[10],\n",
    ").plot.box(\n",
    "    grid=True,\n",
    "    figsize=(15, 6),\n",
    "    # This one has a lot of outliers, and each one is a weird fractional value because of the division above, so hide them away.\n",
    "    showfliers=False,\n",
    "    title='Do Members Checkout Items After The First Year?\\n\\nMembership Years',\n",
    "    ylabel='Checkouts Per Year',\n",
    "    xlabel='Years Of Membership',\n",
    ")"
   ]
  },
  {
   "cell_type": "code",
   "execution_count": null,
   "id": "1f356b6f-93cd-4607-9663-2a46efbcff89",
   "metadata": {
    "tags": []
   },
   "outputs": [],
   "source": [
    "# Group users by length of time since most recent loan\n",
    "import pandas as pd\n",
    "\n",
    "members = pd.read_pickle('data/output/members.pkl')\n",
    "active_members = pd.DataFrame(members[members['Current Membership Type'] != 'Request_CheckIDAddressPhoneDOB'])\n",
    "\n",
    "checkouts = pd.read_pickle('data/output/checkouts.pkl')\n",
    "checkouts_with_complete_years = checkouts[checkouts['Checked Out'].between(pd.Timestamp('2016-01-01'), pd.Timestamp('2024-01-01'), inclusive='left')]\n",
    "by_member = checkouts_with_complete_years.set_index('Membership ID')\n",
    "\n",
    "most_recent_checkout = active_members.apply(\n",
    "    lambda m: by_member[by_member.index == m['Membership ID']].max()['Checked Out'],\n",
    "    axis='columns',\n",
    ")\n",
    "\n",
    "t = pd.Timestamp.now()\n",
    "\n",
    "def years_since_loan(loan):\n",
    "    # Use days - pd.Timedelta doesn't let us round to Years directly because it is a \"non-fixed frequency\"\n",
    "    # (e.g. there are leap years).\n",
    "    days = (t - loan).round('D')\n",
    "    \n",
    "    if pd.isna(days.days):\n",
    "        # For now, \"inf\" means \"never had a loan\"\n",
    "        return float('inf')\n",
    "\n",
    "    # Use 365.25 as the average year length, and then take the floor and convert to an int\n",
    "    return int(days.days // 365.25)\n",
    "\n",
    "active_members['Years Since Checkout'] = most_recent_checkout.apply(years_since_loan)\n",
    "member_counts_per_years_since_last_checkout = active_members.groupby(['Years Since Checkout']).size()\n",
    "\n",
    "# TODO: Maybe this would be more useful as a line by days?\n",
    "member_counts_per_years_since_last_checkout.plot(\n",
    "    kind='bar',\n",
    "    stacked=True,\n",
    "    figsize=(20, 10),\n",
    "    grid=True,\n",
    "    title='How Many Members Haven\\'t Checked Out An Item In X Years',\n",
    "    xlabel='Years Since Last Checkout',\n",
    "    ylabel='Count Of Members',\n",
    ")"
   ]
  },
  {
   "cell_type": "code",
   "execution_count": null,
   "id": "1d77a867-01b4-4e10-9564-3fe948d3eff0",
   "metadata": {
    "tags": []
   },
   "outputs": [],
   "source": [
    "import pandas as pd\n",
    "\n",
    "members = pd.read_pickle('data/output/members.pkl')\n",
    "active_members = pd.DataFrame(members[members['Current Membership Type'] != 'Request_CheckIDAddressPhoneDOB'])\n",
    "active_members['Sex'] = active_members['Sex'].fillna('unknown')\n",
    "\n",
    "print('How Is Our Membership Distributed By Gender?')\n",
    "print((100 * active_members.groupby('Sex').size() / active_members.index.size).round(2).map(lambda p: f'{p}%'))\n",
    "active_members.groupby('Sex').size().plot.pie(ylabel='', title='Member Gender Breakdown', figsize=(15, 15))"
   ]
  },
  {
   "cell_type": "code",
   "execution_count": null,
   "id": "63fe6276-ab88-48d3-8e59-ead027da5a10",
   "metadata": {
    "tags": []
   },
   "outputs": [],
   "source": [
    "def age_group(age):\n",
    "    if pd.isna(age):\n",
    "        return 'unknown'\n",
    "    \n",
    "    age_digits = len(str(age))\n",
    "    # We see a lot of ages that are the year of birth, e.g. 1992\n",
    "    if age_digits == 4:\n",
    "        age = int(str(age)[2:])\n",
    "    elif age_digits != 2:\n",
    "        return 'unknown'\n",
    "\n",
    "    if age < 20:\n",
    "        return '0-19'\n",
    "    elif age >= 70:\n",
    "        return '70+'\n",
    "    else:\n",
    "        # Rounds down to nearest 10\n",
    "        clipped_age = (age // 10) * 10\n",
    "        return f'{clipped_age}-{clipped_age+9}'\n",
    "\n",
    "regular_members = pd.DataFrame(members[members['Current Membership Type'] != 'Request_CheckIDAddressPhoneDOB'])\n",
    "\n",
    "by_age_group = regular_members.groupby(regular_members['Age'].apply(age_group)).size()\n",
    "print('How Is Our Membership Distributed By Age?')\n",
    "print((100 * by_age_group / regular_members['Age'].size).round(2).apply(lambda p: f'{p}%'))\n",
    "by_age_group.plot.pie(\n",
    "    ylabel='', title='Member Age Group Breakdown',\n",
    "    fontsize='large',\n",
    "    figsize=(15, 15)\n",
    ")"
   ]
  },
  {
   "cell_type": "code",
   "execution_count": null,
   "id": "0563ac27-85f5-4563-9b7a-0ca95c447902",
   "metadata": {
    "tags": []
   },
   "outputs": [],
   "source": [
    "import pandas as pd\n",
    "\n",
    "members = pd.read_pickle('data/output/members.pkl')\n",
    "active_members = pd.DataFrame(members[members['Current Membership Type'] != 'Request_CheckIDAddressPhoneDOB'])\n",
    "\n",
    "race_cols = active_members[\n",
    "    active_members['American Indian or Alaskan Native'].notna() |\n",
    "    active_members['Asian'].notna()|\n",
    "    active_members['Black or African American'].notna() |\n",
    "    active_members['Hispanic'].notna() |\n",
    "    active_members['White'].notna() |\n",
    "    active_members['Native Hawaiian or Pacific Islander'].notna()|\n",
    "    active_members['Other'].notna()\n",
    "]\n",
    "\n",
    "\n",
    "# Percentage filled\n",
    "race_filled_in_count = race_cols['Membership ID'].size\n",
    "race_filled_in_proportion = race_filled_in_count / active_members['Membership ID'].size\n",
    "# active_members['Unknown'] = (\n",
    "#     active_members['American Indian or Alaskan Native'].isna() &\n",
    "#     active_members['Asian'].isna() &\n",
    "#     active_members['Black or African American'].isna() &\n",
    "#     active_members['Hispanic'].isna() &\n",
    "#     active_members['White'].isna() &\n",
    "#     active_members['Native Hawaiian or Pacific Islander'].isna() &\n",
    "#     active_members['Other'].isna()\n",
    "# ).replace(True, 'Y').replace(False, pd.NA)\n",
    "\n",
    "race_col_stats = active_members[[\n",
    "    'American Indian or Alaskan Native',\n",
    "    'Asian',\n",
    "    'Black or African American',\n",
    "    'Hispanic',\n",
    "    'White',\n",
    "    'Native Hawaiian or Pacific Islander',\n",
    "    'Other',\n",
    "    # 'Unknown'\n",
    "]].unstack().reset_index(level=0).rename(columns={'level_0': 'Race', 0: 'Checked'}).groupby(by=['Race', 'Checked']).size()\n",
    "\n",
    "\n",
    "print((100 * race_col_stats / active_members['Membership ID'].size).map(lambda p: f'{p:.2f}%'))\n",
    "\n",
    "race_col_stats.unstack()['Y'].plot.pie(figsize=(10, 10), title='How Is Our Membership Distributed By Race?', ylabel='')"
   ]
  },
  {
   "cell_type": "code",
   "execution_count": null,
   "id": "68fc1185-033b-4048-bc3a-a4cc083c9fff",
   "metadata": {
    "tags": []
   },
   "outputs": [],
   "source": [
    "# What proportion of loans were created by admins?\n",
    "\n",
    "import pandas as pd\n",
    "\n",
    "loans = pd.read_pickle('data/output/loans.pkl')\n",
    "admins = pd.read_csv('data/input/admin-users-snapshot.csv', usecols=('Member ID', ), dtype={'Member ID': 'object'}).rename(columns={'Member ID': 'Membership ID'})\n",
    "\n",
    "loans['Is Admin'] = loans['Membership ID'].isin(admins['Membership ID'])\n",
    "loans['Year'] = loans['Checked Out'].apply(lambda d: d.year)\n",
    "\n",
    "print('What Percent Of Loans Are Made By Admins?')\n",
    "percent = loans[loans['Is Admin']].size / loans.size * 100\n",
    "print(f'{percent:.0f}%')"
   ]
  },
  {
   "cell_type": "code",
   "execution_count": null,
   "id": "c0333ab4-2823-478d-93fd-39cc86d93797",
   "metadata": {},
   "outputs": [],
   "source": [
    "# How much money do we make from late fees per item? Per year? What proportion of late fees are discounted?\n",
    "import pandas as pd\n",
    "\n",
    "transactions = pd.read_pickle('data/output/transactions.pkl')\n",
    "\n",
    "payments = transactions[transactions['Payment method'].notna()]\n",
    "\n",
    "print('Discounts By Transaction Type')\n",
    "# Still sussing out the logic of the transaction data.  'Payment Amount' seems to be consistently filled\n",
    "# whereas 'Amount Paid', and other columns aren't, so using that as the \"actual amount\".\n",
    "print(payments.groupby('Item Type')[['Discount', 'Payment Amount']].sum())\n",
    "late_fees = payments[payments['Item Type'] != 'Membership Fee']\n",
    "membership_fees = payments[payments['Item Type'] == 'Membership Fee']\n",
    "late_fees.groupby(payments['Date'].apply(lambda d: d.year))[[ 'Payment Amount', 'Discount']].sum().plot.bar(stacked=True, title='Late Fees', grid=True)\n",
    "membership_fees.groupby(payments['Date'].apply(lambda d: d.year))[['Payment Amount']].sum().plot.bar(stacked=True, title='Membership Fees', grid=True)"
   ]
  },
  {
   "cell_type": "code",
   "execution_count": null,
   "id": "13417a3e-180f-429f-bd32-803d000bdad1",
   "metadata": {
    "tags": []
   },
   "outputs": [],
   "source": [
    "# What item types do we actually have inventory for?\n",
    "#\n",
    "# This is handy for generating a default Replacement Cost for each Item Type, per the Cost Metrics Report\n",
    "# methodology here: https://drive.google.com/file/d/0B_TrKFtCsrCKbC0wRUxQX1hJQlk/view?usp=sharing&resourcekey=0-o31JocNgLSGl7PT2WRLkHw\n",
    "\n",
    "import pandas as pd\n",
    "\n",
    "items = pd.read_pickle('data/output/inventory.pkl')\n",
    "item_types = pd.read_csv('data/input/item-types.csv')\n",
    "\n",
    "item_types_with_inventory = items['Item Type'].unique()\n",
    "\n",
    "pd.DataFrame({ 'Item Type': item_types[item_types['Type'].isin(item_types_with_inventory)]['Type'] }).to_csv('data/output/item-types-in-inventory.csv')"
   ]
  }
 ],
 "metadata": {
  "kernelspec": {
   "display_name": "Python 3 (ipykernel)",
   "language": "python",
   "name": "python3"
  },
  "language_info": {
   "codemirror_mode": {
    "name": "ipython",
    "version": 3
   },
   "file_extension": ".py",
   "mimetype": "text/x-python",
   "name": "python",
   "nbconvert_exporter": "python",
   "pygments_lexer": "ipython3",
   "version": "3.11.8"
  }
 },
 "nbformat": 4,
 "nbformat_minor": 5
}
