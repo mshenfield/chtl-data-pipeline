{
 "cells": [
  {
   "cell_type": "code",
   "execution_count": null,
   "id": "82d97f59-7296-42fb-8743-46409bc27d22",
   "metadata": {},
   "outputs": [],
   "source": [
    "\"\"\"\n",
    "\"Zombie\" members - people who sign up and pay for a membership online but\n",
    "never come in to activate it\n",
    "\n",
    "New accounts get a \"User Warning\" filled in with a message informing people to check\n",
    "IDs on their first visit. This warning isn't ALWAYS cleared, but its presence is a\n",
    "good indicator the user hasn't actually used the tool library yet.  We can make that\n",
    "signal even more reliable by excluding users with that warning if they've checked\n",
    "something out.\n",
    "\n",
    "TODO: \"Shop Use Only\" members who have checked out tools?\n",
    "\"\"\"\n",
    "import pandas as pd\n",
    "\n",
    "DATA_DIR = \"~/chtl/data/processed/\"\n",
    "members = pd.read_pickle(f'{DATA_DIR}users.pkl')\n",
    "\n",
    "members[:10]"
   ]
  },
  {
   "cell_type": "code",
   "execution_count": null,
   "id": "d9a7ccf2-c10c-495f-aded-277c2f5a9c97",
   "metadata": {},
   "outputs": [],
   "source": [
    "ACTIVE_MEMBERSHIP_TYPES = {\n",
    "    'regular',\n",
    "    'Flexible',\n",
    "    'Standard (Annual)',\n",
    "    'Standard (Monthly)',\n",
    "    'Sustaining (Annual',\n",
    "}\n",
    "active_members_with_activation_warnings = members[\n",
    "    members['Current Membership Type'].isin(ACTIVE_MEMBERSHIP_TYPES)][\n",
    "    members['User Warning'].str.contains('This member is new', na=False)]\n",
    "\n",
    "active_members_with_activation_warnings[:10]"
   ]
  },
  {
   "cell_type": "code",
   "execution_count": null,
   "id": "b697aab3-159f-4503-81d2-75357f080d5c",
   "metadata": {},
   "outputs": [],
   "source": [
    "from datetime import datetime, timedelta\n",
    "\n",
    "THIRTY_DAYS_AGO = datetime.now() - timedelta(days=20)\n",
    "\n",
    "# 'First Membership Started' is the original membership if they switched types (e.g. the legacy 'regular' to\n",
    "# one of the self-signup memberships)\n",
    "thirty_day_zombies = active_members_with_activation_warnings[\n",
    "    active_members_with_activation_warnings['First Membership Started'] < THIRTY_DAYS_AGO]\n",
    "\n",
    "thirty_day_zombies[:10]"
   ]
  },
  {
   "cell_type": "code",
   "execution_count": null,
   "id": "549bc965-9e72-4712-88b0-ff557a14a042",
   "metadata": {},
   "outputs": [],
   "source": [
    "loans = pd.read_pickle(f'{DATA_DIR}loans.pkl')\n",
    "\n",
    "member_ids_with_loans = set(loans['Membership ID'])\n",
    "\n",
    "zombie_members_including_flexible = thirty_day_zombies[~thirty_day_zombies['Membership ID'].isin(member_ids_with_loans)]\n",
    "\n",
    "zombie_members_including_flexible[:10]"
   ]
  },
  {
   "cell_type": "code",
   "execution_count": null,
   "id": "d82638a3-c3e5-4862-a1aa-c71cf6adda72",
   "metadata": {},
   "outputs": [],
   "source": [
    "transactions = pd.read_pickle(f'{DATA_DIR}transactions.pkl')\n",
    "\n",
    "zombie_members = []\n",
    "# Exclude Flexible members who paid $0. Not a huge deal since they didn't pay anything.\n",
    "for ix, m in zombie_members_including_flexible.iterrows():\n",
    "    member_txns = transactions[transactions['Member ID'] == m['Membership ID']]\n",
    "    # The structure of txns is weird. A 'Membership Fee' will be present for non-$0 memberships.\n",
    "    if len(member_txns[member_txns['Transaction Type'] == 'Membership Fee']) > 0:\n",
    "        zombie_members.append(m)\n",
    "\n",
    "pd.DataFrame(zombie_members)"
   ]
  },
  {
   "cell_type": "code",
   "execution_count": null,
   "id": "402fca30-8d9d-4b03-84d5-afcbcbb2180a",
   "metadata": {},
   "outputs": [],
   "source": []
  }
 ],
 "metadata": {
  "kernelspec": {
   "display_name": "Python 3 (ipykernel)",
   "language": "python",
   "name": "python3"
  },
  "language_info": {
   "codemirror_mode": {
    "name": "ipython",
    "version": 3
   },
   "file_extension": ".py",
   "mimetype": "text/x-python",
   "name": "python",
   "nbconvert_exporter": "python",
   "pygments_lexer": "ipython3",
   "version": "3.11.2"
  }
 },
 "nbformat": 4,
 "nbformat_minor": 5
}
