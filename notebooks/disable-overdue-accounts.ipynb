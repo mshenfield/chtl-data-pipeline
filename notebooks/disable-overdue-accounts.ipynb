{
 "cells": [
  {
   "cell_type": "code",
   "execution_count": null,
   "id": "464380a0-4345-488e-bb86-9e8c37ffe0b2",
   "metadata": {},
   "outputs": [],
   "source": [
    "\"\"\"Max Shenfield used this script in Feb 2025 to mark account in https://docs.google.com/spreadsheets/d/1-vhB4p-2TqDSAXaNS3HqTU9UPG9LJztSGaIjTmBO2Kw/edit?gid=720008453#gid=720008453\n",
    "as ExtremelyOverdueItems.\n",
    "\"\"\"\n",
    "\n",
    "import pandas as pd\n",
    "import os\n",
    "import sys\n",
    "\n",
    "if 'my_turn_bot' in sys.modules:\n",
    "    del sys.modules['my_turn_bot']\n",
    "\n",
    "from myturn_bot.bot import MyTurnBot\n",
    "\n",
    "bot = MyTurnBot('capitolhill')\n",
    "bot.start_session('mshenfield', os.environ['MYTURN_PASSWORD'])\n",
    "\n",
    "# Found by snooping on the Network tab when manually editing a MyTurn membership\n",
    "extremely_overdue_membership_type_id = 3816\n",
    "overdue_member_ids = pd.read_csv('~/downloads/extremely_overdue_members.csv')['Member ID']\n",
    "\n",
    "for member_id in overdue_member_ids:\n",
    "    print(f'Changing membership type for {member_id}')\n",
    "    bot.update_membership_type(member_id=member_id, membership_type_id=extremely_overdue_membership_type_id)\n"
   ]
  },
  {
   "cell_type": "code",
   "execution_count": null,
   "id": "44a439c3-56c7-4c3c-8322-a174e2f12eff",
   "metadata": {},
   "outputs": [],
   "source": [
    "os.environ['MYTURN_PASSWORD']"
   ]
  }
 ],
 "metadata": {
  "kernelspec": {
   "display_name": "Python 3 (ipykernel)",
   "language": "python",
   "name": "python3"
  },
  "language_info": {
   "codemirror_mode": {
    "name": "ipython",
    "version": 3
   },
   "file_extension": ".py",
   "mimetype": "text/x-python",
   "name": "python",
   "nbconvert_exporter": "python",
   "pygments_lexer": "ipython3",
   "version": "3.13.2"
  }
 },
 "nbformat": 4,
 "nbformat_minor": 5
}
