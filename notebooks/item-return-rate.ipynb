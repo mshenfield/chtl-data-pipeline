{
 "cells": [
  {
   "cell_type": "code",
   "execution_count": null,
   "id": "36a96328-76f0-40a9-8f5a-3e4923545b76",
   "metadata": {},
   "outputs": [],
   "source": [
    "\"\"\"\n",
    "Best effort at calculating the % of loans that are returned.\n",
    "\n",
    "Items that are more than 1 year overdue are considered lost.\n",
    "\"\"\"\n",
    "import pandas as pd\n",
    "\n",
    "DATA_DIR = '~/chtl/data/processed/'\n",
    "items = pd.read_pickle(f'{DATA_DIR}inventory.pkl')\n",
    "loans = pd.read_pickle(f'{DATA_DIR}loans.pkl')"
   ]
  },
  {
   "cell_type": "code",
   "execution_count": null,
   "id": "139cf4f8-67e8-460a-b517-57bc9f74555c",
   "metadata": {},
   "outputs": [],
   "source": [
    "from datetime import datetime, timedelta\n",
    "\n",
    "# Items that are either:\n",
    "#\n",
    "# * Status: Lost By Member\n",
    "# * More than 1 year overdue\n",
    "#\n",
    "# are considered unreturned.\n",
    "one_year_ago = datetime.now() - timedelta(weeks=52)\n",
    "very_overdue_item_ids = set(loans[loans['Checked In'].isna() & (loans['Checked Out'] < one_year_ago)]['Item ID'])\n",
    "items['Very Overdue'] = items['Item ID'].isin(very_overdue_item_ids)"
   ]
  },
  {
   "cell_type": "code",
   "execution_count": null,
   "id": "77bca2e5-47a4-4ee3-a4cb-339e59e7e126",
   "metadata": {},
   "outputs": [],
   "source": [
    "items['Unreturned'] = items['Very Overdue'] | items['Lost By Member']\n",
    "items[items['Unreturned']]"
   ]
  },
  {
   "cell_type": "code",
   "execution_count": null,
   "id": "fb5ba7b2-f809-4fb3-aacb-480cdc6a0925",
   "metadata": {},
   "outputs": [],
   "source": [
    "# Examine what proprtion of things are still listed as loaned, but have a disabled status\n",
    "# vs things that have been marked as returned and lost (probably reported stolen)\n",
    "# vs things that are very overdue and haven't been marked as lost (recently overdue probably)\n",
    "print(\"Loss Breakdown\\n\")\n",
    "print(items.groupby(['Very Overdue', 'Lost By Member']).size())\n",
    "print(\"\")\n",
    "print(f'{len(items[items['Unreturned']]) / len(items):.2%} Lost')"
   ]
  },
  {
   "cell_type": "code",
   "execution_count": null,
   "id": "6716ee78-8e74-462a-a77e-5847236d1896",
   "metadata": {},
   "outputs": [],
   "source": [
    "# What proportion of items that have been loaned at least once have never been returned?\n",
    "loaned_at_least_once_item_ids = set(loans['Item ID'])\n",
    "loaned_items = items[items['Item ID'].isin(loaned_at_least_once_item_ids)]\n",
    "\n",
    "print(f'{len(loaned_items[loaned_items['Unreturned']]) / len(loaned_items):.2%} Of Loaned Items Never Returned')"
   ]
  },
  {
   "cell_type": "code",
   "execution_count": null,
   "id": "f4078e75-c37b-4a0b-a92f-ff8eac911644",
   "metadata": {},
   "outputs": [],
   "source": [
    "# What proportion of loans made from 12 to 3 months ago are currently more than 3 months overdue?\n",
    "# e.g. get the return rate from a year ago to as recent as we can get data\n",
    "from datetime import datetime, timedelta\n",
    "one_year_ago = datetime.now() - timedelta(weeks=52)\n",
    "three_months_ago = datetime.now() - timedelta(weeks=13)\n",
    "\n",
    "loaned_recently = loans[(loans['Checked Out'] >= one_year_ago) & (loans['Checked Out'] < three_months_ago)]\n",
    "overdue = loaned_recently[loaned_recently['Checked In'].isna()]\n",
    "print(f'{len(overdue) / len(loaned_recently):.2%} Of Loans From 12-3 months Ago Is 3 Months Or More Overdue')"
   ]
  },
  {
   "cell_type": "code",
   "execution_count": null,
   "id": "ce72714b-1889-4e9c-b13f-82b409f0551a",
   "metadata": {},
   "outputs": [],
   "source": [
    "# How are overdue items distributed across members?\n",
    "overdue_per_member = overdue.groupby('Membership ID').size()\n",
    "print(f'Members With Most Overdue Items: {overdue_per_member.sort_values(ascending=False).head(n=10)}\\n')\n",
    "\n",
    "# How many members are overdue, as a proportion of members with recent loans\n",
    "print(f'{len(set(overdue['Membership ID'])) / len(set(loaned_recently['Membership ID'])):.2%} Of Members Have Very Overdue Loans\\n')\n",
    "# interesting - XX% of members never return their shit - more than the X% of loans not returned, meaning\n",
    "# folks a few folks returning large item loans are tipping the scales.\n",
    "overdue_per_member.plot.box(title=\"Recently Overdue Loans Box Chart\")"
   ]
  },
  {
   "cell_type": "code",
   "execution_count": null,
   "id": "047bcbbd-b555-464c-bbff-d883ae19b424",
   "metadata": {},
   "outputs": [],
   "source": [
    "# Action items?\n",
    "#\n",
    "# * Verify phone number and email before making loans (can use MyTurn hacks and poll to notify on signup),\n",
    "#   or a proof of address (a piece of mail with name that matches your ID).\n",
    "# * Collect addresses. Not required but probably doesn't hurt and lets us do collections.\n",
    "# * If you don't have a verifiable phone or email - how'd you sign up? You can provide a proof of address.\n",
    "#\n",
    "# Find someone to own calling and pestering people with overdue loans. We want to get this number 5x down (1 in\n",
    "# 100 instead of 1 in 100).\n",
    "#\n",
    "# The \"most items overdue list\" is useful if triaging, but ideally we start with a process for new loans and\n",
    "# work our way through the backlog."
   ]
  }
 ],
 "metadata": {
  "kernelspec": {
   "display_name": "Python 3 (ipykernel)",
   "language": "python",
   "name": "python3"
  },
  "language_info": {
   "codemirror_mode": {
    "name": "ipython",
    "version": 3
   },
   "file_extension": ".py",
   "mimetype": "text/x-python",
   "name": "python",
   "nbconvert_exporter": "python",
   "pygments_lexer": "ipython3",
   "version": "3.13.2"
  }
 },
 "nbformat": 4,
 "nbformat_minor": 5
}
