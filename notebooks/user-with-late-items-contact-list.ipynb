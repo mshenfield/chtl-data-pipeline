{
 "cells": [
  {
   "cell_type": "markdown",
   "id": "76e3d71b-d72c-49d4-8b78-a668c8a3f104",
   "metadata": {},
   "source": [
    "# Users With Late Items\n",
    "\n",
    "We'd like to reach out to these folks and try and get the items back in circulation."
   ]
  },
  {
   "cell_type": "code",
   "execution_count": null,
   "id": "6f492700-1807-4f1e-8e0a-e791cd87619a",
   "metadata": {},
   "outputs": [],
   "source": [
    "# What do I want to include?\n",
    "#\n",
    "# The member's first and last name\n",
    "# The member's email and phone number\n",
    "# The name of item's they have checked out\n",
    "# When they originally checked them out\n",
    "# Whether we contacted them before\n",
    "# How many of that kind of item we have in stock?\n",
    "import pandas as pd\n",
    "from random import random\n",
    "from datetime import datetime, timedelta\n",
    "\n",
    "def nicer_string(series):\n",
    "    return \", \".join(set(series.map(str)))\n",
    "\n",
    "# See README for instructions on downloading fresh data\n",
    "users = pd.read_csv('data/input_with_personal_info/users-snapshot.csv', usecols=('Member ID', 'Username', 'First Name', 'Last Name', 'Email', 'Confirmed?', 'Phone', 'User Note', 'User Warning'))\n",
    "users.rename(columns={\"Member ID\": \"Membership ID\", 'Confirmed?': 'Email Confirmed?'}, inplace=True)\n",
    "loans = pd.read_pickle('data/output/loans.pkl')\n",
    "# TODO: Remove offset\n",
    "checked_out = loans[loans['Checked In'].isna() & (loans['Due Date'] < (datetime.now() - timedelta(days=1)))]\n",
    "items = pd.read_pickle('data/output/inventory.pkl')[['Item ID', 'Item Type', 'Name', 'Image','Disabled', 'In Maintenance', 'Shop Use Only', 'Wish List', 'Lost In Shop', 'Lost By Member', 'Not Fixable']]\n",
    "item_costs = pd.read_csv('data/input/item-cost-guesses.csv', usecols=('id', 'estimated_cost'))\n",
    "item_costs.rename(columns={'id': 'Item ID', 'estimated_cost': 'Estimated Cost'}, inplace=True)\n",
    "\n",
    "checked_out_with_details = pd.merge(checked_out, items, how='left', on=['Item ID'])\n",
    "checked_out_with_details = pd.merge(checked_out_with_details, item_costs, how='left', on=['Item ID'])\n",
    "checked_out_with_details = checked_out_with_details[~(checked_out_with_details['Disabled'] | checked_out_with_details['Lost In Shop'] | checked_out_with_details['Lost By Member']  | checked_out_with_details['Not Fixable'])]\n",
    "checkouts_by_member = checked_out_with_details.groupby('Membership ID').agg({'Due Date': \"min\", 'Name': nicer_string, 'Item ID': nicer_string, 'Estimated Cost': 'sum'})\n",
    "all_in = pd.merge(users, checkouts_by_member, how=\"inner\", on=[\"Membership ID\"])\n",
    "all_in.rename(columns={'Name': 'Item Names', 'Item ID': 'Item IDs', 'Estimated Cost': 'AI Guess At $ Value 🤖'}, inplace=True)\n",
    "all_in['High Value?'] = all_in['AI Guess At $ Value 🤖'].map(lambda v: v >= 200)\n",
    "all_in['Sort By This To Shuffle'] = all_in['Item IDs'].map(lambda v: random())\n",
    "# TODO: Add handling for Previously Contacted (match common \"contact\" words like email, phone, etc on user note and user warning\n",
    "# TODO: Add handling for \"short on item\". This is currently just a list, but it would be nice to say something like \"demand for this kind of thing\n",
    "# is higher than the number of items we have in stock\n",
    "\n",
    "# Drop the Member ID column for the output, since meant to be human readable. Just use username.\n",
    "all_in.drop(['Membership ID'], axis=1, inplace=True)\n",
    "all_in.to_csv('data/output_with_personal_info/overdue_loans.csv', index=False)"
   ]
  },
  {
   "cell_type": "code",
   "execution_count": null,
   "id": "6cefd96c-d48e-43c7-803a-c9fc8c044776",
   "metadata": {},
   "outputs": [],
   "source": []
  }
 ],
 "metadata": {
  "kernelspec": {
   "display_name": "Python 3 (ipykernel)",
   "language": "python",
   "name": "python3"
  },
  "language_info": {
   "codemirror_mode": {
    "name": "ipython",
    "version": 3
   },
   "file_extension": ".py",
   "mimetype": "text/x-python",
   "name": "python",
   "nbconvert_exporter": "python",
   "pygments_lexer": "ipython3",
   "version": "3.11.8"
  }
 },
 "nbformat": 4,
 "nbformat_minor": 5
}
