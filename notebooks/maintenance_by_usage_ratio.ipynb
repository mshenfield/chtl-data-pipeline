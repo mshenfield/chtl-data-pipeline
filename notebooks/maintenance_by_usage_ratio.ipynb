{
 "cells": [
  {
   "cell_type": "code",
   "execution_count": null,
   "id": "d0d36f2c-beb6-4b63-8193-6fbf85bb22ac",
   "metadata": {},
   "outputs": [],
   "source": [
    "from datetime import datetime, timedelta\n",
    "import pandas as pd\n",
    "\n",
    "loans = pd.read_pickle('~/chtl-data/processed/loans.pkl')\n",
    "items = pd.read_pickle('/home/max/chtl-data/processed/inventory.pkl')\n",
    "items = items.set_index(\"Item ID\")\n",
    "joined = loans.join(items, on=\"Item ID\", lsuffix=\"-l\")\n",
    "\n",
    "# I scanned a CSV of in maintenance items, and noted any that had Item Types I think should be grouped, or had a bad Item Type for a given Item ID.\n",
    "item_type_overrides = {\n",
    "    \"Cordless Drills\": \"Power Drills\", \"Drills\": \"Power Drills\", \"Power Drill 3/8in\": \"Power Drills\",\n",
    "    \"Flat Screwdrivers\": \"Screwdrivers\",\n",
    "    \"Finishing Power Sanders\": \"Sanders\"\n",
    "}\n",
    "for k, v in item_type_overrides.items():\n",
    "    joined.loc[joined[\"Item Type\"] == k, \"Item Type\"] = v\n",
    "    items.loc[items[\"Item Type\"] == k, \"Item Type\"] = v\n",
    "    \n",
    "item_id_type_overrides = { 3894: \"Automotive Tools\"}\n",
    "for k, v in item_id_type_overrides.items():\n",
    "    joined.loc[joined[\"Item ID\"] == k, \"Item Type\"] = v\n",
    "    items.loc[k, \"Item Type\"] = v\n",
    "\n",
    "# Exclude any status that disables an item  from the maintenance list. This isn't perfect (a handful of items are incorrectly labeled In Maintenance and Disabled\n",
    "# w/ the intention of fixing them), but correctly excludes a lot of things we've given up on.\n",
    "in_maintenance = items[items['In Maintenance'] & ~(items['Disabled'] | items['Not Fixable'] | items['Lost In Shop'])]\n",
    "\n",
    "# Exclude anything more than 6 weeks overdue from our \"Item Type Available Count\".\n",
    "very_overdue = loans[(loans[\"Due Date\"] < (datetime.now() - timedelta(weeks=6))) & pd.isna(loans['Checked In'])]\n",
    "very_overdue = very_overdue.set_index(\"Item ID\")\n",
    "\n",
    "item_type_popularity = joined.groupby([\"Item Type\"], observed=False).size()\n",
    "\n",
    "enabled_items = items[~(items[\"Disabled\"] | items[\"Shop Use Only\"] | items[\"Lost By Member\"] | items[\"Lost In Shop\"] | items[\"Not Fixable\"] | items[\"In Maintenance\"])]\n",
    "items_w_overdue_info = enabled_items.join(very_overdue, rsuffix=\"-overdue\")\n",
    "item_type_count = items_w_overdue_info[items_w_overdue_info['index'].isna()].groupby([\"Item Type\"], observed=False).size()\n",
    "\n",
    "with_popularity = in_maintenance.join(item_type_popularity.rename(\"Item Type Loan Count\"), on=\"Item Type\").join(item_type_count.rename(\"Item Type Available Item Count\"), on=\"Item Type\")\n",
    "# TODO: Consider changing any items with 0 available items, to have a Usage Ratio that is just \"# of times loaned\", so they're not shot to the top of the list.\n",
    "with_popularity[\"Usage Ratio\"] = (with_popularity[\"Item Type Loan Count\"] / with_popularity[\"Item Type Available Item Count\"]).round(0)\n",
    "with_popularity.sort_values(by=\"Usage Ratio\", ascending=False)[\n",
    "  [\"Item Type\", \"Name\", \"Disabled\", \"Item Type Loan Count\", \"Item Type Available Item Count\", \"Usage Ratio\"]\n",
    "].to_csv(\"~/chtl-data/reports/maintenance-by-usage-ratio.csv\")\n"
   ]
  }
 ],
 "metadata": {
  "kernelspec": {
   "display_name": "Python 3 (ipykernel)",
   "language": "python",
   "name": "python3"
  },
  "language_info": {
   "codemirror_mode": {
    "name": "ipython",
    "version": 3
   },
   "file_extension": ".py",
   "mimetype": "text/x-python",
   "name": "python",
   "nbconvert_exporter": "python",
   "pygments_lexer": "ipython3",
   "version": "3.12.6"
  }
 },
 "nbformat": 4,
 "nbformat_minor": 5
}
