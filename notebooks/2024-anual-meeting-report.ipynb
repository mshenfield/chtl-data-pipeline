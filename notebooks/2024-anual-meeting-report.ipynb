{
 "cells": [
  {
   "cell_type": "markdown",
   "id": "65dbcd18-b218-45d3-b517-26007456a0f0",
   "metadata": {
    "tags": []
   },
   "source": [
    "# Sustainable Capitol Hill 2024 Q1 Meeting"
   ]
  },
  {
   "cell_type": "code",
   "execution_count": null,
   "id": "a12b7fe8-bea7-46d8-8b90-d1f6a867bead",
   "metadata": {
    "editable": true,
    "slideshow": {
     "slide_type": ""
    },
    "tags": []
   },
   "outputs": [],
   "source": [
    "import numpy as np\n",
    "import pandas as pd\n",
    "\n",
    "members = pd.read_pickle('data/output/members.pkl')\n",
    "\n",
    "def to_month(timestamp_series):\n",
    "    return timestamp_series.apply(lambda t: pd.Timestamp(t.year, t.month, 1))\n",
    "\n",
    "member_dates = pd.DataFrame(\n",
    "    {\n",
    "        'Online Sign-Up Count': members['Created'].groupby(to_month(members['Created'])).size().asfreq('MS',fill_value=0),\n",
    "        'In Person Activation Count ': members['First Membership Started'].groupby(to_month(members['First Membership Started'])).size().asfreq('MS',fill_value=0)\n",
    "    },\n",
    "    index=pd.date_range(freq='MS', start=pd.Timestamp('2018-01-01'), end=pd.Timestamp('2023-12-31'))\n",
    ")\n",
    "\n",
    "graph = member_dates.plot(\n",
    "    title='Online Sign-ups And In-Person Activations Per Month',\n",
    "    figsize=(10, 6),\n",
    "    ylabel='Count',\n",
    "    ylim=(0,140),\n",
    ")"
   ]
  },
  {
   "cell_type": "code",
   "execution_count": null,
   "id": "12375469-5a37-4930-96d2-aad8ec440972",
   "metadata": {},
   "outputs": [],
   "source": [
    "import numpy as np\n",
    "import pandas as pd\n",
    "\n",
    "members = pd.read_pickle('data/output/members.pkl')\n",
    "\n",
    "def to_year(timestamp_series):\n",
    "    return timestamp_series.apply(lambda t: None if pd.isna(t.year) else int(t.year))\n",
    "\n",
    "members['Created Year'] = to_year(members['Created'])\n",
    "members['First Membership Started Year'] = to_year(members['First Membership Started'])\n",
    "\n",
    "recent_years = [2016, 2017, 2018, 2019, 2020, 2021, 2022, 2023]\n",
    "members = members[members['Created Year'].isin(recent_years) & (members['First Membership Started Year'].isna() | members['First Membership Started Year'].isin(recent_years))]\n",
    "\n",
    "member_dates = pd.DataFrame(\n",
    "    {\n",
    "        'Online Sign-Up Count': members['Created Year'].groupby(members['Created Year']).size(),\n",
    "        'In Person Activation Count ': members['First Membership Started Year'].groupby(members['First Membership Started Year']).size()\n",
    "    }\n",
    ")\n",
    "\n",
    "graph = member_dates.plot(\n",
    "    kind='bar',\n",
    "    grid=True,\n",
    "    title='Online Sign-ups And In-Person Activations Per Year',\n",
    "    figsize=(10, 6),\n",
    "    ylabel='Count',\n",
    "    ylim=(0,1400),\n",
    ")"
   ]
  },
  {
   "cell_type": "code",
   "execution_count": null,
   "id": "adf4ae83-9a39-446d-beef-bc73f756383a",
   "metadata": {
    "tags": []
   },
   "outputs": [],
   "source": [
    "import pandas as pd\n",
    "from datetime import date\n",
    "\n",
    "checkouts = pd.read_pickle('data/output/checkouts.pkl')\n",
    "checkouts['Month'] = pd.to_datetime(checkouts['Checked Out'].map(lambda c: date(c.year, c.month, 1)))\n",
    "checkouts['Year'] = checkouts['Checked Out'].map(lambda c: c.year)\n",
    "# Exclude 2015 (tool library not fully open) and current year if it is only a month or two in.\n",
    "recent_years = checkouts[checkouts['Year'].isin([2018, 2019, 2020, 2021, 2022, 2023])]\n",
    "by_month = recent_years.groupby('Month').size().asfreq('MS', fill_value=0)\n",
    "\n",
    "# Save to a variable so the __str__ doesn't get displayed\n",
    "graph = by_month.plot(figsize=(10, 6), title='Checkouts Per Month', ylabel='Count', ylim=0)"
   ]
  },
  {
   "cell_type": "code",
   "execution_count": null,
   "id": "3ac4fb4b-ad9e-4e6a-8474-2349e9829e6a",
   "metadata": {},
   "outputs": [],
   "source": [
    "# Checkout totals per year\n",
    "import pandas as pd\n",
    "from datetime import date\n",
    "\n",
    "checkouts = pd.read_pickle('data/output/checkouts.pkl')\n",
    "checkouts['Year'] = checkouts['Checked Out'].map(lambda c: c.year)\n",
    "# Exclude 2015 (tool library not fully open) and current year if it is only a month or two in.\n",
    "recent_years = checkouts[checkouts['Year'].isin([2016, 2017, 2018, 2019, 2020, 2021, 2022, 2023])]\n",
    "\n",
    "# Save to a variable so the __str__ doesn't get displayed\n",
    "graph = recent_years.groupby('Year').size().plot(kind='bar', figsize=(10, 6), title='Checkouts Per Year', grid=True, ylabel='Count', ylim=0)"
   ]
  },
  {
   "cell_type": "code",
   "execution_count": null,
   "id": "74ef2353-8e13-499d-97ab-774e609a0385",
   "metadata": {
    "tags": []
   },
   "outputs": [],
   "source": [
    "from datetime import date\n",
    "import pandas as pd\n",
    "\n",
    "loans = pd.read_pickle('data/output/loans.pkl')\n",
    "loans['Length'] = loans['Checked In'].fillna(pd.to_datetime(date.today())) - loans['Checked Out']\n",
    "# Grouping by the \"Year\" it was checked out artificially reduces the most recent years loan length.\n",
    "# Previous years get all unreturned items counted for the whole year. In the current year there isn't\n",
    "# enough time for those to add up yet.\n",
    "loans['Year'] = loans['Checked Out'].map(lambda c: c.year)\n",
    "recent_years = loans[loans['Year'].isin([2018, 2019, 2020, 2021, 2022, 2023, 2024])]\n",
    "\n",
    "by_year = pd.DataFrame({'Days': recent_years['Length'].map(lambda l: l.days), 'Year': recent_years['Year']})\n",
    "graph = by_year.pivot(columns='Year', values='Days').plot.box(\n",
    "    # \"fliers\" in plt parlance are outliers.  We don't show them here because there are so many, they make the\n",
    "    # rest of the plot much harder to read.  The gist is that a few loans are just never returned.\n",
    "    showfliers=False,\n",
    "    figsize=(10, 6),\n",
    "    title='Item Loan Length',\n",
    "    ylabel='Days Loaned',\n",
    ")"
   ]
  },
  {
   "cell_type": "markdown",
   "id": "8c26e5dc-fb0f-45b5-a5ab-d1a7b5388b16",
   "metadata": {},
   "source": [
    "## Member Stories\n",
    "\n",
    "These are some of the projects I've heard people mention during my shifts:\n",
    "\n",
    "> I am refinishing my industrial loft\n",
    "\n",
    "> I added a hole to my belt loop while I was in the back\n",
    "\n",
    "> I just moved to Seattle, and want to hang a shelf but don't have any tools.\n",
    "\n",
    "> Someone just broke up with me 5 minute ago and I need to agressively cut wood\n",
    "\n",
    "> I'd like to shorten this bit of metal shelving.\n",
    "\n",
    "> I'm demolishing my kitchen."
   ]
  },
  {
   "cell_type": "markdown",
   "id": "d56495b9-bd45-4eb5-8687-8d721aaec418",
   "metadata": {},
   "source": [
    "## Income\n",
    "\n",
    "### \\\\$19k revenue - \\\\$5k expenses = \\\\$14k net income\n",
    "\n",
    "## Revenue\n",
    "\n",
    "The Capitol Hill Tool Library gets revenue from membership donations, late fees, and donations directly to Sustainable Capitol Hill. The first two kinds of fees are recorded in MyTurn, and direct donations in the Sustainable Capitol Hill BECU account.\n",
    "\n",
    "\n",
    "### Late Fees"
   ]
  },
  {
   "cell_type": "code",
   "execution_count": null,
   "id": "a5209961-7ed1-4cf3-86fe-ff328155b6b8",
   "metadata": {
    "tags": []
   },
   "outputs": [],
   "source": [
    "import pandas as pd\n",
    "\n",
    "transactions = pd.read_pickle('data/output/transactions.pkl')\n",
    "transactions['Year'] = transactions['Date'].apply(lambda d: d.year)\n",
    "\n",
    "payments = transactions[transactions['Payment method'].notna()]\n",
    "payments = payments[payments['Year'].isin([2018, 2019, 2020, 2021, 2022, 2023])]\n",
    "\n",
    "late_fees = pd.DataFrame(payments[payments['Item Type'] == 'Late Fee'])\n",
    "membership_fees = pd.DataFrame(payments[payments['Item Type'] == 'Membership Fee'])\n",
    "\n",
    "\n",
    "graph = late_fees.groupby('Year').sum(numeric_only=True)[['Payment Amount', 'Discount']].plot.bar(\n",
    "    stacked=True, title='Late Fees', grid=True, ylabel=\"Dollars\", xlabel=\"\")\n",
    "# TODO: MyTurn records over-payment donations as negative amounts. Need to think\n",
    "# more about what kind of stats I'd want to record for late fees."
   ]
  },
  {
   "cell_type": "markdown",
   "id": "13c8ca28-4bd4-4b1b-9cde-81ebddb53c25",
   "metadata": {},
   "source": [
    "### Membership Donations"
   ]
  },
  {
   "cell_type": "code",
   "execution_count": null,
   "id": "293260d7-2d1e-4f85-91d1-5f4fd6a8c627",
   "metadata": {
    "tags": []
   },
   "outputs": [],
   "source": [
    "membership_fees['Year'] = membership_fees['Date'].apply(lambda d: d.year)\n",
    "by_year = membership_fees.groupby('Year')\n",
    "graph = by_year.sum(numeric_only=True)[['Payment Amount']].plot.bar(\n",
    "    stacked=True, title='Membership Donations', grid=True, ylabel=\"Dollars\", xlabel=\"\")\n",
    "\n",
    "graph = membership_fees[membership_fees['Payment Amount'] >= 0].pivot(columns='Year', values='Payment Amount').plot.box(\n",
    "    ylabel=\"Dollars\",\n",
    "    showfliers=False,\n",
    ")\n"
   ]
  },
  {
   "cell_type": "markdown",
   "id": "c2ecf12d-1d5d-4cc0-b7bb-e621d4ff07c5",
   "metadata": {
    "tags": []
   },
   "source": [
    "### Direct Donations\n",
    "\n",
    "People donate directly to Sustainable Capitol Hill and the tool library, both in-person and online.  We received an additional ~$7k in direct donations."
   ]
  },
  {
   "cell_type": "markdown",
   "id": "071aba4d-6c14-4786-95da-f9445bf22193",
   "metadata": {},
   "source": [
    "### Expenses\n",
    "\n",
    "Our primary expenses are rent (\\~1.5k), insurance (\\~2k), web hosting (\\~.5k), and money spent repairing tools."
   ]
  },
  {
   "cell_type": "markdown",
   "id": "85b5802b-5603-4826-aad2-4fb29e6f6b92",
   "metadata": {},
   "source": [
    "#### About This Report\n",
    "Code and instructions for playing with the Capitol Hill Tool Library data yourself are available at https://github.com/mshenfield/chtl-data-pipeline. Ask [Max Shenfield](https://app.slack.com/client/TAAD5LKJ4/D02BHR5J7J6/user_profile/U02BB35KMRU) for access.  The project is built using [Python](https://python.org), [Pandas](https://pandas.pydata.org/), and [Jupyter Notebook](https://jupyter.org/)."
   ]
  }
 ],
 "metadata": {
  "kernelspec": {
   "display_name": "Python 3 (ipykernel)",
   "language": "python",
   "name": "python3"
  },
  "language_info": {
   "codemirror_mode": {
    "name": "ipython",
    "version": 3
   },
   "file_extension": ".py",
   "mimetype": "text/x-python",
   "name": "python",
   "nbconvert_exporter": "python",
   "pygments_lexer": "ipython3",
   "version": "3.11.6"
  }
 },
 "nbformat": 4,
 "nbformat_minor": 5
}
