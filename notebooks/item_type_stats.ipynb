{
 "cells": [
  {
   "cell_type": "code",
   "execution_count": null,
   "id": "9dc19e16-6476-4925-b64e-5a4114d3fb01",
   "metadata": {},
   "outputs": [],
   "source": [
    "import pandas as pd\n",
    "\n",
    "inventory = pd.read_pickle('/home/max/chtl/data/processed/inventory.pkl')\n",
    "loans = pd.read_pickle('/home/max/chtl/data/processed/loans.pkl')\n",
    "item_types = pd.read_pickle('/home/max/chtl/data/processed/item-types.pkl')"
   ]
  },
  {
   "cell_type": "code",
   "execution_count": null,
   "id": "536259ad",
   "metadata": {},
   "outputs": [],
   "source": [
    "from collections import defaultdict\n",
    "\n",
    "# For each \"Item Type\", create a list that includes itself and all descendants\n",
    "descendants = defaultdict(lambda: set())\n",
    "\n",
    "for ix, item_type in item_types.iterrows():\n",
    "    # Add itself for convenience\n",
    "    descendants[item_type['Type']].add(item_type['Type'])\n",
    "    # Add the child to it's parent's descendants list.\n",
    "    descendants[item_type['Parent Type']].add(item_type['Type'])\n",
    "    \n",
    "# Remove the defaultdict, so we don't accidentally access keys that don't exist\n",
    "descendants = dict(descendants)\n",
    "descendants"
   ]
  },
  {
   "cell_type": "code",
   "execution_count": null,
   "id": "2458bf3f-f53a-4db4-8f8f-826a8f99f16d",
   "metadata": {},
   "outputs": [],
   "source": [
    "# Use loans, our inventory table, and a dump of item types from MyTurn to generate statistics about each \"Item Type\" we have inventory for.\n",
    "#\n",
    "# The \"Item Type\" is MyTurn's way of bucketing items. You may have many difference sizes\n",
    "# of box wrench, but they'll all have \"Box Wrench\" as the \"Item Type\", allowing us to\n",
    "# understand trends/loan categories as a group.\n",
    "import pandas as pd\n",
    "\n",
    "# An empty list of the result\n",
    "rows = []\n",
    "\n",
    "# Index loans by \"Item ID\" so we can speed up lookups below\n",
    "loans_by_item_id = loans.set_index('Item ID')\n",
    "\n",
    "for ix, item_type in item_types.iterrows():\n",
    "    # Pull a list of items for this item_type or its descendants\n",
    "    items = inventory[\n",
    "        inventory['Item Type'].isin(descendants[item_type['Type']])\n",
    "    ]\n",
    "    item_type_count = len(descendants[item_type['Type']])\n",
    "    count = items['Item ID'].count()\n",
    "    disabled_count = items[items['Disabled'] | items['In Maintenance'] | items['Wish List']]['Item ID'].count()\n",
    "    active_count = count - disabled_count\n",
    "\n",
    "    # Determine the maximum number of items checked out at once.\n",
    "    #\n",
    "    # This is easier than it sounds. We just grab all the check-in/out dates and increment the check-out\n",
    "    # count when we encounter a check-out, decrement on a check-in. It doesn't matter which item specifically\n",
    "    # is checked-out/checked-in.\n",
    "    item_loans = loans_by_item_id[loans_by_item_id.index.isin(items['Item ID'])]\n",
    "    \n",
    "    loan_dates = []\n",
    "    for _, loan in item_loans.iterrows():\n",
    "        loan_dates.append({'type': 'CHECKOUT', 'date': loan['Checked Out']})\n",
    "        \n",
    "        if pd.notna(loan['Checked In']):\n",
    "            # After 6 months, treat the item as lost (non concurrently checked out)\n",
    "            loan_dates.append({\n",
    "                'type': 'CHECKIN',\n",
    "                'date': min(loan['Checked In'], loan['Checked Out'] + pd.Timedelta(weeks=25))\n",
    "            })\n",
    "\n",
    "    # Sort them in ascending order by date\n",
    "    loan_dates.sort(key=lambda d: d['date'])\n",
    "    \n",
    "    max_checked_out = 0\n",
    "    max_checked_out_date = None\n",
    "    checked_out = 0\n",
    "    for ld in loan_dates:\n",
    "        if ld['type'] == 'CHECKOUT':\n",
    "            checked_out += 1\n",
    "            if checked_out > max_checked_out:\n",
    "                max_checked_out = checked_out\n",
    "                max_checked_out_date = ld['date']\n",
    "        else:\n",
    "            checked_out -= 1\n",
    "            \n",
    "    rows.append({\n",
    "        'Item Type': item_type['Type'], 'Types Of Items': item_type_count,\n",
    "        'Item Count': count, 'Disabled Item Count': disabled_count, 'Active Item Count': active_count,\n",
    "        'Max Checked Out': max_checked_out, 'Max Checked Out Date': max_checked_out_date\n",
    "    })\n",
    "\n",
    "item_type_stats = pd.DataFrame(rows)\n",
    "item_type_stats = item_type_stats.set_index(keys=['Item Type'])\n",
    "\n",
    "item_type_stats"
   ]
  },
  {
   "cell_type": "code",
   "execution_count": null,
   "id": "98c382b8-b0d7-4679-86e0-add10059f91b",
   "metadata": {},
   "outputs": [],
   "source": [
    "# Add a column representing the \"utilization\" of the item.\n",
    "#\n",
    "# For now, we're counting utilization as the maximum number checked out ever, divided by the current number of active items.\n",
    "\n",
    "with_inventory = item_type_stats[item_type_stats['Item Count'] > 0]\n",
    "\n",
    "with_utilization = pd.DataFrame(with_inventory)\n",
    "# Round percentages to the nearest whole number for simplicity\n",
    "with_utilization['Utilization'] = (100 * with_utilization['Max Checked Out'] / with_utilization['Active Item Count']).round(1)\n",
    "\n",
    "with_utilization.sort_values(by=['Utilization'], ascending=False)"
   ]
  },
  {
   "cell_type": "code",
   "execution_count": null,
   "id": "912dc478-15d2-478f-8c62-29c29e8fc5f9",
   "metadata": {},
   "outputs": [],
   "source": [
    "# Print the item_type_stats with the \"Utilization\" column in the order the \"Item Type\"s are listed in the\n",
    "# original data/input/item_types.csv (ordered in depth first search order).\n",
    "\n",
    "with_utilization.to_csv('/home/max/chtl/data/reports/item_type_stats.csv')\n",
    "with_utilization.to_pickle('/home/max/chtl/data/reports/item_type_stats.pkl')"
   ]
  },
  {
   "cell_type": "code",
   "execution_count": null,
   "id": "39fa7222-7eba-44d3-956f-0f7b44b8c0c2",
   "metadata": {},
   "outputs": [],
   "source": [
    "with_utilization.sort_values(by='Utilization', ascending=False).to_csv('/home/max/chtl/data/reports/temp_item_type_stats_sorted.csv')"
   ]
  },
  {
   "cell_type": "code",
   "execution_count": null,
   "id": "31b4e4e7-6dff-4d4e-9971-b6578e13085a",
   "metadata": {},
   "outputs": [],
   "source": [
    "# This table is challenging to use.\n",
    "#\n",
    "# * The peak utilization is sometimes a weird checkout - like the one user who checked out 3 hatches at once and got robbed.\n",
    "# * Very specific item categories cause a lot of noise (\"Crowbar With Chisel Ends\"). I don't actually care if we're out of\n",
    "#   these, just whether users can get a crowbar. Not sure if I should make a list of these and exclude/mark them, if there's\n",
    "#   an underlying problem with MyTurn's Item Types, or if I should hide/group this."
   ]
  },
  {
   "cell_type": "code",
   "execution_count": null,
   "id": "e4be6dd4-0ed7-4cc2-b0d5-26997a2b1d17",
   "metadata": {},
   "outputs": [],
   "source": [
    "with_utilization.loc[['Hammer Drills']]"
   ]
  },
  {
   "cell_type": "code",
   "execution_count": null,
   "id": "a9e7e4bc-4f34-4e60-8dab-76590b07a0f4",
   "metadata": {},
   "outputs": [],
   "source": [
    "# TODO: Is this actually useful?\n",
    "#\n",
    "# * When sub-item types are similar, it can raise a false alarm (no \"Crowbars\", but plenty of \"Crowbars With Chisel Ends\")"
   ]
  },
  {
   "cell_type": "code",
   "execution_count": null,
   "id": "18b41c45-c9a4-4724-a79b-94cded8fbda4",
   "metadata": {},
   "outputs": [],
   "source": [
    "# Okay, let's redo. Go through items and group, not by item types.abs\n",
    "\n",
    "# Use loans, our inventory table, and a dump of item types from MyTurn to generate statistics about each \"Item Type\" we have inventory for.\n",
    "#\n",
    "# The \"Item Type\" is MyTurn's way of bucketing items. You may have many difference sizes\n",
    "# of box wrench, but they'll all have \"Box Wrench\" as the \"Item Type\", allowing us to\n",
    "# understand trends/loan categories as a group.\n",
    "import pandas as pd\n",
    "from dataclasses import dataclass\n",
    "\n",
    "@dataclass\n",
    "class ItemTypeCounts:\n",
    "    item_count: int\n",
    "    loan_count: int\n",
    "\n",
    "# An empty list of the result\n",
    "rows = []\n",
    "\n",
    "# Index loans by \"Item ID\" so we can speed up lookups below\n",
    "loans_by_item_id = loans.set_index('Item ID')\n",
    "\n",
    "\n",
    "item_type_counts = defaultdict(lambda: ItemTypeCounts(0, 0))\n",
    "\n",
    "for ix, item in inventory.iterrows():\n",
    "    # Determine the maximum number of items checked out at once.\n",
    "    #\n",
    "    # This is easier than it sounds. We just grab all the check-in/out dates and increment the check-out\n",
    "    # count when we encounter a check-out, decrement on a check-in. It doesn't matter which item specifically\n",
    "    # is checked-out/checked-in.\n",
    "    loan_count = 0\n",
    "    if item['Item ID'] in loans_by_item_id:\n",
    "        loan_count = len(loans_by_item_id[item['Item ID']])\n",
    "    \n",
    "    c = item_type_counts[item['Item Type']]\n",
    "    c.item_count += 1\n",
    "    c.loan_count += len(item_loans)\n",
    "\n",
    "\n",
    "for item_type, counts in item_type_counts.items():\n",
    "    rows.append({\n",
    "        'Item Type': item_type,\n",
    "        'Item Count': counts.item_count,\n",
    "        'Loan Count': counts.loan_count\n",
    "    })\n",
    "simple_stats = pd.DataFrame(rows)\n",
    "simplestats = simple_stats.set_index(keys=['Item Type'])"
   ]
  },
  {
   "cell_type": "code",
   "execution_count": null,
   "id": "d3899de6-e518-487b-86e3-e6ec4e39b366",
   "metadata": {},
   "outputs": [],
   "source": [
    "simple_stats.to_csv('/home/max/chtl/data/reports/simple_stats.csv')\n"
   ]
  }
 ],
 "metadata": {
  "kernelspec": {
   "display_name": "Python 3 (ipykernel)",
   "language": "python",
   "name": "python3"
  },
  "language_info": {
   "codemirror_mode": {
    "name": "ipython",
    "version": 3
   },
   "file_extension": ".py",
   "mimetype": "text/x-python",
   "name": "python",
   "nbconvert_exporter": "python",
   "pygments_lexer": "ipython3",
   "version": "3.13.2"
  }
 },
 "nbformat": 4,
 "nbformat_minor": 5
}
