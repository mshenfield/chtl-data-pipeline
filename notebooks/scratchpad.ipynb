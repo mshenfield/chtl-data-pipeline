{
 "cells": [
  {
   "cell_type": "markdown",
   "id": "a17cece9-d61c-4eee-afa5-8bfb8515cea9",
   "metadata": {},
   "source": [
    "# Test Things Out Here"
   ]
  },
  {
   "cell_type": "code",
   "execution_count": null,
   "id": "0579cba0-d9fd-4db8-950f-155c4a456076",
   "metadata": {},
   "outputs": [],
   "source": [
    "# investigate weird 2023 loan data\n",
    "from datetime import date\n",
    "import pandas as pd\n",
    "\n",
    "loans = pd.read_pickle('data/output/loans.pkl')\n",
    "loans['Length'] = loans['Checked In'].fillna(pd.to_datetime(date.today())) - loans['Checked Out']\n",
    "loans['Year'] = loans['Checked Out'].map(lambda c: c.year)\n",
    "# Exclude 2015 (tool library not fully opened yet) and the current year if we're not that far in yet\n",
    "loans_with_complete_years = loans[~loans['Year'].isin([2015])]\n",
    "\n",
    "print('How Many Days Is An Item Typically Loaned For?')\n",
    "loans_with_complete_years.groupby('Year').describe(\n",
    "    include='timedelta', percentiles=[.25, .5, .75, .95, .99]\n",
    "# Drop the 'count' column here, we have it elsewhere. Round each ovservation to the nearest day.\n",
    ")['Length'].drop(columns='count').map(lambda t: t.round(freq='D'))"
   ]
  },
  {
   "cell_type": "code",
   "execution_count": null,
   "id": "80655181-a63b-44e6-bb7e-0a15d2182522",
   "metadata": {},
   "outputs": [],
   "source": [
    "%config Completer.use_jedi = False"
   ]
  },
  {
   "cell_type": "code",
   "execution_count": null,
   "id": "e31471fc-f9ca-4826-b21d-25f737f4e5af",
   "metadata": {},
   "outputs": [],
   "source": [
    "# How do \"successful\" loans trend over time?\n",
    "#\n",
    "# Let's call the \"success\" rate the number of loans which are returned within a month.\n",
    "# TODO: This doesn't handle longer checkout periods well.\n",
    "from pandas import Timedelta, Timestamp\n",
    "from datetime import date, datetime, timedelta\n",
    "\n",
    "loans['Returned Within Month'] = (loans['Checked In'].fillna(Timestamp(2030, 1, 1)) - loans['Checked Out']) <= Timedelta(31, unit='D')\n",
    "loans['Returned Within 2 Months'] = (loans['Checked In'].fillna(Timestamp(2030, 1, 1)) - loans['Checked Out']) <= Timedelta(60, unit='D')\n",
    "loans['Month'] = loans['Checked Out'].map(lambda d: date(d.year, d.month, 1))\n",
    "loans = loans[loans['Checked Out'] < (datetime.now() - timedelta(days=31))]\n",
    "\n",
    "with_counts = loans.groupby(['Month', 'Returned Within Month']).size().reset_index(name=\"Loan Count\")\n",
    "returned_within_month_counts = with_counts[with_counts['Returned Within Month']].groupby(['Month']).sum(['Loan Count'])['Loan Count']\n",
    "total_counts = with_counts.groupby(['Month']).sum(['Loan Count'])['Loan Count']\n",
    "\n",
    "returned_within_month_percents = (100 * returned_within_month_counts / total_counts).fillna(0).round(2)\n",
    "returned_within_month_percents.plot(figsize=(12, 4), grid=True, title='Percentage Of Loans Returned Within 1 Month', xlabel='Year Month', ylabel=\"%\")\n",
    "# TODO: We don't have a way of seeing if loans are not returned by users but marked as returned. Maybe that's why things were higher pre-pandemic?\n",
    "#\n",
    "# We should see how high we can get it. 80% is terrible. Was adding an address, etc, discouraging people from not returning things? Did our reminder emails change?"
   ]
  },
  {
   "cell_type": "code",
   "execution_count": null,
   "id": "f9777219-9b56-45c9-b2de-1b6668740bef",
   "metadata": {},
   "outputs": [],
   "source": [
    "loans.groupby(['Month']).size().plot(figsize=(12, 4), grid=True, title=\"Loan Counts By Month\", xlabel='Year Month', ylabel='Count')"
   ]
  }
 ],
 "metadata": {
  "kernelspec": {
   "display_name": "Python 3 (ipykernel)",
   "language": "python",
   "name": "python3"
  },
  "language_info": {
   "codemirror_mode": {
    "name": "ipython",
    "version": 3
   },
   "file_extension": ".py",
   "mimetype": "text/x-python",
   "name": "python",
   "nbconvert_exporter": "python",
   "pygments_lexer": "ipython3",
   "version": "3.11.6"
  }
 },
 "nbformat": 4,
 "nbformat_minor": 5
}
