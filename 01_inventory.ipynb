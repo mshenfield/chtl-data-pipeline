{
 "cells": [
  {
   "cell_type": "code",
   "execution_count": null,
   "id": "7efd1d91-027e-4112-bf71-05876367305b",
   "metadata": {},
   "outputs": [],
   "source": [
    "# Generate a nicely formatted inventory table\n",
    "from re import split\n",
    "import pandas as pd\n",
    "\n",
    "raw_inventory = pd.read_csv(\n",
    "    'data/input/inventory-snapshot.csv',\n",
    "    dtype={\n",
    "        # \"Item Type\" is categorical, and so is \"Location Code\" when labeled fastidiously\n",
    "        'Item Type': 'category',\n",
    "        'Location Code': 'category',\n",
    "    },\n",
    "    parse_dates=['Date Created'],\n",
    "    converters={\n",
    "        # \"Status(es)\" is a CSV of possible statuses.\n",
    "        'Status(es)': lambda s: frozenset() if s == '' else frozenset(s.split(',')),\n",
    "        # \"Keywords\" are space or comma separated lists of arbitrary words\n",
    "        'Keywords': lambda k: frozenset(split('[, ]', k))\n",
    "    }\n",
    ")\n",
    "raw_inventory"
   ]
  },
  {
   "cell_type": "code",
   "execution_count": null,
   "id": "7ab6ff13-279f-4e77-9a63-6c858f5789c7",
   "metadata": {},
   "outputs": [],
   "source": [
    "# Convert each status into it's own column and delete the \"Status(es)\" column because it's hard to use\n",
    "inventory = pd.DataFrame(raw_inventory)\n",
    "for status in {'Disabled', 'In Maintenance', 'Shop Use Only', 'Wish List'}:\n",
    "    inventory[status] = raw_inventory['Status(es)'].map(lambda s: status in s)\n",
    "\n",
    "del inventory['Status(es)']\n",
    "inventory"
   ]
  },
  {
   "cell_type": "code",
   "execution_count": null,
   "id": "1f93e91d-4925-4d8a-850d-df3edcb445ae",
   "metadata": {},
   "outputs": [],
   "source": [
    "inventory.to_csv('data/output/inventory.csv', index=False)\n",
    "inventory.to_pickle('data/output/inventory.pkl')"
   ]
  }
 ],
 "metadata": {
  "kernelspec": {
   "display_name": "Python 3 (ipykernel)",
   "language": "python",
   "name": "python3"
  },
  "language_info": {
   "codemirror_mode": {
    "name": "ipython",
    "version": 3
   },
   "file_extension": ".py",
   "mimetype": "text/x-python",
   "name": "python",
   "nbconvert_exporter": "python",
   "pygments_lexer": "ipython3",
   "version": "3.10.5"
  }
 },
 "nbformat": 4,
 "nbformat_minor": 5
}
