{
 "cells": [
  {
   "cell_type": "code",
   "execution_count": null,
   "id": "464380a0-4345-488e-bb86-9e8c37ffe0b2",
   "metadata": {},
   "outputs": [],
   "source": [
    "import pandas as pd\n",
    "import os\n",
    "import sys\n",
    "\n",
    "if 'my_turn_bot' in sys.modules:\n",
    "    del sys.modules['my_turn_bot']\n",
    "\n",
    "from lib.my_turn_bot import MyTurnBot\n",
    "\n",
    "bot = MyTurnBot('capitolhill')\n",
    "bot.start_session('mshenfield', os.environ['MYTURN_PASSWORD'])\n",
    "\n",
    "member_ids = pd.read_pickle('output/members.pkl')['Membership ID']\n",
    "\n",
    "for member_id in member_ids:\n",
    "    # Clear the user's address and date of birth\n",
    "    print(f'Clearing personal info for member {member_id}')\n",
    "    bot.patch_member(member_id, {\n",
    "        # Address\n",
    "        'address.street1': '', 'address.street2': '', 'address.city': '', 'address.country': '', 'address.principalSubdivision': '', 'address.postalCode': '', 'address.notes': '',\n",
    "        # Address of secondary user\n",
    "        'address2.street1': '', 'address2.street2': '', 'address2.city': '', 'address2.country': '', 'address2.principalSubdivision': '', 'address2.postalCode': '', 'address2.notes': '',\n",
    "        # Date of birth\n",
    "        '_dataOfBirth': '', 'dateOfBirth_date': '', 'dateOfBirth': 'struct', 'dateOfBirth_tz': '', 'dateOfBirth_time': '',\n",
    "    })\n"
   ]
  },
  {
   "cell_type": "code",
   "execution_count": null,
   "id": "f138be80-200d-4c9b-a46e-d640c8ac32ca",
   "metadata": {},
   "outputs": [],
   "source": [
    "# TODO: Turn this into a test\n",
    "import re\n",
    "x = '<input type=\"hidden\" name=\"SYNCHRONIZER_TOKEN\" value=\"97d7312b-e6c2-4966-b54b-b3ebb597f336\">'\n",
    "re.search('name=\"SYNCHRONIZER_TOKEN\" value=\"([\\d\\w-]+)\"', x).group(1)"
   ]
  },
  {
   "cell_type": "code",
   "execution_count": null,
   "id": "09677101-f17c-428c-964e-946d61fcf341",
   "metadata": {},
   "outputs": [],
   "source": [
    "# Save the \"Age\" column and shuffle it for future summary stats.\n",
    "import pandas as pd\n",
    "import random\n",
    "\n",
    "users = pd.read_csv('~/users-with-personal-info-06-2022.csv', dtype={'Age': 'Int64'})\n",
    "shuffled_ages = users.sample(frac=1)['Age']\n",
    "\n",
    "with open('/home/max/ages-06-2022.txt', mode='w') as f:\n",
    "    for age in shuffled_ages:\n",
    "        f.write(f'{age}\\n')\n",
    "        \n",
    "\n",
    "# Save the address info\n",
    "users.sample(frac=1).to_csv(\n",
    "    '/home/max/addresses-06-2022.txt',\n",
    "    columns=['Address', 'Address2', 'City', 'State/Province', 'Country'],\n",
    "    index=False,\n",
    ")"
   ]
  },
  {
   "cell_type": "code",
   "execution_count": null,
   "id": "44a439c3-56c7-4c3c-8322-a174e2f12eff",
   "metadata": {},
   "outputs": [],
   "source": []
  }
 ],
 "metadata": {
  "kernelspec": {
   "display_name": "Python 3 (ipykernel)",
   "language": "python",
   "name": "python3"
  },
  "language_info": {
   "codemirror_mode": {
    "name": "ipython",
    "version": 3
   },
   "file_extension": ".py",
   "mimetype": "text/x-python",
   "name": "python",
   "nbconvert_exporter": "python",
   "pygments_lexer": "ipython3",
   "version": "3.10.4"
  }
 },
 "nbformat": 4,
 "nbformat_minor": 5
}
