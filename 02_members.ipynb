{
 "cells": [
  {
   "cell_type": "code",
   "execution_count": null,
   "id": "e8f6c6ed-dead-4333-be9e-3d7b8970371a",
   "metadata": {},
   "outputs": [],
   "source": [
    "# Generate the members table.\n",
    "import pandas as pd\n",
    "\n",
    "raw_members = pd.read_csv(\n",
    "    'input/users-snapshot.csv',\n",
    "    # Only include extra information that is required on sign-up ('Age') or widely pouplated ('Gender')\n",
    "    usecols=(\n",
    "        # A handful of users have string Member IDs\n",
    "        'Member ID',\n",
    "        # Gender is filled for about 1/3rd of users, but isn't required anymore\n",
    "        'Sex',\n",
    "        # Age is required now, and filled for 2/3rds of users\n",
    "        'Age',\n",
    "        # Include Race columns - even though they're not frequently filled in, glean what we can\n",
    "        'American Indian or Alaskan Native', 'Asian', 'Black or African American', 'Hispanic', 'White', 'Native Hawaiian or Pacific Islander', 'Other',\n",
    "        'Confirmed?', 'Member Created (M/D/YYYY)', 'Start of first full membership (M/D/YYYY)',\n",
    "        'Current Membership Type', 'Latest Membership Change (request, upgrade, renewal, cancellation...) (M/D/YYYY)',\n",
    "        'Current Membership Expiration (M/D/YYYY)', 'User Note', 'User Warning',\n",
    "    ),\n",
    "    parse_dates=[\n",
    "        'Member Created (M/D/YYYY)', 'Start of first full membership (M/D/YYYY)', \n",
    "        'Latest Membership Change (request, upgrade, renewal, cancellation...) (M/D/YYYY)',\n",
    "        'Current Membership Expiration (M/D/YYYY)',\n",
    "    ],\n",
    "    dtype={\n",
    "        'Current Membership Type': 'category', 'Confirmed?': 'boolean',\n",
    "        'Age': 'Int64',\n",
    "    },\n",
    ")\n",
    "\n",
    "raw_members"
   ]
  },
  {
   "cell_type": "code",
   "execution_count": null,
   "id": "2e0cfbf0-8500-49ad-91a2-8bcf36091900",
   "metadata": {},
   "outputs": [],
   "source": [
    "better_cols = raw_members.rename(columns={\n",
    "    # For consistency with the loans column name\n",
    "    'Member ID': 'Membership ID',\n",
    "    'Member Created (M/D/YYYY)': 'Created',\n",
    "    'Start of first full membership (M/D/YYYY)': 'First Membership Started',\n",
    "    'Latest Membership Change (request, upgrade, renewal, cancellation...) (M/D/YYYY)': 'Last Changed',\n",
    "    'Current Membership Expiration (M/D/YYYY)': 'Expiration',\n",
    "})\n",
    "better_cols.info()"
   ]
  },
  {
   "cell_type": "code",
   "execution_count": null,
   "id": "f2e7e5b8-63cf-4165-8d79-c6b7d8730fee",
   "metadata": {},
   "outputs": [],
   "source": [
    "better_cols['Sex'].fillna('unknown', inplace=True)"
   ]
  },
  {
   "cell_type": "code",
   "execution_count": null,
   "id": "8f51d1d2-7929-4737-a5dd-7ee8bc02869e",
   "metadata": {},
   "outputs": [],
   "source": [
    "# Add outstanding balance (overdue loan balance + any outsanding balance) to the member info\n",
    "#\n",
    "# This is spread between \"Loans\" > \"Overdue Only\" in MyTurn, and the \"Outsatnding Balances\"\n",
    "# report in MyTurn.  Combining it one place helps identify people with heavy outsanding balances.\n",
    "import pandas as pd\n",
    "\n",
    "from chtl_helpers import balance_to_float\n",
    "\n",
    "balances = pd.read_csv(\n",
    "    'input/outstanding-balances.csv',\n",
    "    # Skip duplicative personal info, just ID and balance is enough.\n",
    "    usecols=('ID', 'Amount'),\n",
    "    dtype={\n",
    "        # Make the 'Member ID' a string for compatibility with other tables. Occassionally set it to something other than a number.\n",
    "        'ID': 'string',\n",
    "    },\n",
    "    # Convert \"$0.00\" strings to actual numbers\n",
    "    converters={'Amount': balance_to_float},\n",
    ").rename(columns={'ID': 'Membership ID'}).set_index('Membership ID')\n",
    "\n",
    "loans = pd.read_pickle('output/loans.pkl')\n",
    "late_fees = loans.groupby('Membership ID').sum()\n",
    "\n",
    "\n",
    "# late_fees.join(balances)[late_fees['Late Fees To Date'] > 0].sort_values(by='Late Fees To Date', ascending=False)\n",
    "\n",
    "better_cols['Late Fees'] = better_cols.join(late_fees['Late Fees To Date'], on='Membership ID')['Late Fees To Date'].fillna(0.0)\n",
    "better_cols['Balance'] = better_cols.join(balances['Amount'], on='Membership ID')['Amount'].fillna(0.0)\n",
    "better_cols['Balance Including Late Fees'] = better_cols['Late Fees'] + better_cols['Balance']\n",
    "\n",
    "better_cols['Balance Including Late Fees'][better_cols['Balance Including Late Fees'] > 0].plot.hist()"
   ]
  },
  {
   "cell_type": "code",
   "execution_count": null,
   "id": "55f538cf-8681-4aa0-b61d-72c53e202731",
   "metadata": {},
   "outputs": [],
   "source": [
    "better_cols.to_csv('output/members.csv')\n",
    "better_cols.to_pickle('output/members.pkl')"
   ]
  }
 ],
 "metadata": {
  "kernelspec": {
   "display_name": "Python 3 (ipykernel)",
   "language": "python",
   "name": "python3"
  },
  "language_info": {
   "codemirror_mode": {
    "name": "ipython",
    "version": 3
   },
   "file_extension": ".py",
   "mimetype": "text/x-python",
   "name": "python",
   "nbconvert_exporter": "python",
   "pygments_lexer": "ipython3",
   "version": "3.10.4"
  }
 },
 "nbformat": 4,
 "nbformat_minor": 5
}
