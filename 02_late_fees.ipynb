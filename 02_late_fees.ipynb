{
 "cells": [
  {
   "cell_type": "code",
   "execution_count": null,
   "id": "cc65e28f-03a5-4057-bfcb-3448217a28a9",
   "metadata": {},
   "outputs": [],
   "source": [
    "# Outstanding user balances. Equivalent to \"Loans\" > \"Overdue Only\" in MyTurn, but grouped by\n",
    "# user, which you can't do in MyTurn at the moment.\n",
    "#\n",
    "# Note this is separate from balances on account.\n",
    "# TODO: Combine with balances on account for full view of outstanding user loans.\n",
    "import pandas as pd\n",
    "\n",
    "loans = pd.read_csv('output/loans.csv')\n",
    "\n",
    "late_fees = loans.groupby('Membership ID').sum()\n",
    "\n",
    "late_fees[late_fees['Late Fees To Date'] > 0].sort_values(by='Late Fees To Date', ascending=False)"
   ]
  }
 ],
 "metadata": {
  "kernelspec": {
   "display_name": "Python 3 (ipykernel)",
   "language": "python",
   "name": "python3"
  },
  "language_info": {
   "codemirror_mode": {
    "name": "ipython",
    "version": 3
   },
   "file_extension": ".py",
   "mimetype": "text/x-python",
   "name": "python",
   "nbconvert_exporter": "python",
   "pygments_lexer": "ipython3",
   "version": "3.10.5"
  }
 },
 "nbformat": 4,
 "nbformat_minor": 5
}
