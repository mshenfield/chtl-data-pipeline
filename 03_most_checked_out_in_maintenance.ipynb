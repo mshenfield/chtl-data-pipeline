{
 "cells": [
  {
   "cell_type": "code",
   "execution_count": null,
   "id": "9ac40a10-1e10-401f-82e7-1f6b2f75043b",
   "metadata": {},
   "outputs": [],
   "source": [
    "import pandas as pd\n",
    "\n",
    "items = pd.read_pickle('data/output/inventory.pkl')\n",
    "in_maintenance = items[items['In Maintenance']]\n",
    "in_maintenance"
   ]
  },
  {
   "cell_type": "code",
   "execution_count": null,
   "id": "81f2407f-8581-4ff6-aaf0-4a5115b2d531",
   "metadata": {},
   "outputs": [],
   "source": [
    "loans = pd.read_pickle('data/output/loans.pkl')\n",
    "loans_in_maintenance = loans[loans['Item ID'].isin(in_maintenance['Item ID'])]\n",
    "loans_in_maintenance.groupby(by='Item ID')['Item ID'].count().sort_values(ascending=False)[:20]"
   ]
  },
  {
   "cell_type": "code",
   "execution_count": null,
   "id": "d0d36f2c-beb6-4b63-8193-6fbf85bb22ac",
   "metadata": {},
   "outputs": [],
   "source": []
  }
 ],
 "metadata": {
  "kernelspec": {
   "display_name": "Python 3 (ipykernel)",
   "language": "python",
   "name": "python3"
  },
  "language_info": {
   "codemirror_mode": {
    "name": "ipython",
    "version": 3
   },
   "file_extension": ".py",
   "mimetype": "text/x-python",
   "name": "python",
   "nbconvert_exporter": "python",
   "pygments_lexer": "ipython3",
   "version": "3.11.5"
  }
 },
 "nbformat": 4,
 "nbformat_minor": 5
}
