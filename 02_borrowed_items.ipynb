{
 "cells": [
  {
   "cell_type": "code",
   "execution_count": null,
   "id": "b935c4e6-72fd-43cb-8800-12885ca61a21",
   "metadata": {},
   "outputs": [],
   "source": [
    "\"\"\"\n",
    "Generate a list of items suitable for import into the Borrowed platform.\n",
    "\n",
    "This includes all items that we're pretty sure we can actually find, and\n",
    "that is checked in or has only been checked out for 2 weeks. Items that\n",
    "haven't been checked out for very long are likely to be returned soon.\n",
    "\"\"\"\n",
    "import datetime as dt\n",
    "import pandas as pd\n",
    "\n",
    "loans = pd.read_pickle('data/output/loans.pkl')\n",
    "items = pd.read_pickle('data/output/inventory.pkl')\n",
    "\n",
    "two_weeks_ago = dt.datetime.now() - dt.timedelta(days=14)\n",
    "checked_out_item_ids = set(loans[loans['Checked In'].isna() & (loans['Checked Out'] < two_weeks_ago)]['Item ID'])\n",
    "\n",
    "active_items = ~items['Disabled'] & ~items['In Maintenance'] & ~items['Shop Use Only'] & ~items['Wish List']\n",
    "available_items = items[~items['Item ID'].isin(checked_out_item_ids) & active_items]\n",
    "available_items.info()"
   ]
  },
  {
   "cell_type": "code",
   "execution_count": null,
   "id": "8aff08ed-cd93-4e5d-a6d4-b3aea8cf54e3",
   "metadata": {},
   "outputs": [],
   "source": [
    "available_items.to_csv('data/output/borrowed_inventory.csv', index=False)"
   ]
  },
  {
   "cell_type": "code",
   "execution_count": null,
   "id": "116b510e-dfa9-4b6c-8142-a313a6dae186",
   "metadata": {},
   "outputs": [],
   "source": []
  }
 ],
 "metadata": {
  "kernelspec": {
   "display_name": "Python 3 (ipykernel)",
   "language": "python",
   "name": "python3"
  },
  "language_info": {
   "codemirror_mode": {
    "name": "ipython",
    "version": 3
   },
   "file_extension": ".py",
   "mimetype": "text/x-python",
   "name": "python",
   "nbconvert_exporter": "python",
   "pygments_lexer": "ipython3",
   "version": "3.11.5"
  }
 },
 "nbformat": 4,
 "nbformat_minor": 5
}
