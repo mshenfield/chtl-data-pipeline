{
 "cells": [
  {
   "cell_type": "code",
   "execution_count": 3,
   "id": "b935c4e6-72fd-43cb-8800-12885ca61a21",
   "metadata": {},
   "outputs": [
    {
     "name": "stdout",
     "output_type": "stream",
     "text": [
      "<class 'pandas.core.frame.DataFrame'>\n",
      "Index: 2785 entries, 7 to 6828\n",
      "Data columns (total 59 columns):\n",
      " #   Column                                                Non-Null Count  Dtype   \n",
      "---  ------                                                --------------  -----   \n",
      " 0   Item ID                                               2785 non-null   int64   \n",
      " 1   Item Type                                             2785 non-null   category\n",
      " 2   Name                                                  2777 non-null   object  \n",
      " 3   Additional Image                                      141 non-null    object  \n",
      " 4   Agreement that must be signed to checkout the item    2 non-null      float64 \n",
      " 5   Amount / Fee                                          2274 non-null   object  \n",
      " 6   Attachment                                            25 non-null     object  \n",
      " 7   Author                                                2 non-null      object  \n",
      " 8   Between Buffer Days                                   2785 non-null   int64   \n",
      " 9   Categories                                            1148 non-null   object  \n",
      " 10  Color                                                 0 non-null      float64 \n",
      " 11  Condition                                             1569 non-null   float64 \n",
      " 12  Daily Late Fee                                        2785 non-null   float64 \n",
      " 13  Date Purchased                                        16 non-null     object  \n",
      " 14  Default Loan Length                                   2785 non-null   int64   \n",
      " 15  Description                                           1715 non-null   object  \n",
      " 16  Dimensions (WxHxD)                                    0 non-null      float64 \n",
      " 17  Eco Rating                                            0 non-null      float64 \n",
      " 18  Embodied Carbon                                       0 non-null      float64 \n",
      " 19  Emission Factor                                       0 non-null      float64 \n",
      " 20  Featured                                              2785 non-null   object  \n",
      " 21  Floating                                              2785 non-null   object  \n",
      " 22  Goes Home                                             2785 non-null   object  \n",
      " 23  Grace period on late fees (in days)                   2785 non-null   int64   \n",
      " 24  Historical Cost                                       111 non-null    float64 \n",
      " 25  Image                                                 2673 non-null   object  \n",
      " 26  Keywords                                              2785 non-null   object  \n",
      " 27  Location Code                                         2742 non-null   category\n",
      " 28  Maintenance Plans                                     0 non-null      float64 \n",
      " 29  Manufacturer                                          717 non-null    object  \n",
      " 30  Max Frequency                                         0 non-null      float64 \n",
      " 31  Max Frequency Units                                   1 non-null      object  \n",
      " 32  Max Output                                            0 non-null      float64 \n",
      " 33  Maximum number of renewals                            2785 non-null   int64   \n",
      " 34  Maximum number that may be reserved                   0 non-null      float64 \n",
      " 35  Maximum percentage of inventory that may be reserved  0 non-null      float64 \n",
      " 36  Maximum Reservation Length                            2785 non-null   int64   \n",
      " 37  Min Frequency                                         0 non-null      float64 \n",
      " 38  Min Frequency Units                                   0 non-null      float64 \n",
      " 39  Model                                                 314 non-null    object  \n",
      " 40  Now Buffer Days                                       2785 non-null   int64   \n",
      " 41  Price to Purchase                                     0 non-null      float64 \n",
      " 42  Product Code / UPC                                    20 non-null     object  \n",
      " 43  Publisher                                             2 non-null      object  \n",
      " 44  Purchased                                             3 non-null      object  \n",
      " 45  Replacement Cost                                      117 non-null    float64 \n",
      " 46  Serial Number                                         15 non-null     object  \n",
      " 47  Size                                                  96 non-null     object  \n",
      " 48  Source / Supplier                                     34 non-null     object  \n",
      " 49  Tax(es)                                               0 non-null      float64 \n",
      " 50  Transfer Buffer Days                                  2785 non-null   int64   \n",
      " 51  Weight                                                3 non-null      object  \n",
      " 52  Date Created                                          2785 non-null   object  \n",
      " 53  Date Last Edited                                      2785 non-null   object  \n",
      " 54  Date Last Updated                                     2785 non-null   object  \n",
      " 55  Wish List                                             2785 non-null   bool    \n",
      " 56  In Maintenance                                        2785 non-null   bool    \n",
      " 57  Shop Use Only                                         2785 non-null   bool    \n",
      " 58  Disabled                                              2785 non-null   bool    \n",
      "dtypes: bool(4), category(2), float64(19), int64(8), object(26)\n",
      "memory usage: 1.2+ MB\n"
     ]
    }
   ],
   "source": [
    "\"\"\"\n",
    "Generate a list of items suitable for import into the Borrowed platform.\n",
    "\n",
    "This includes all items that we're pretty sure we can actually find, and\n",
    "that is checked in or has only been checked out for 2 weeks. Items that\n",
    "haven't been checked out for very long are likely to be returned soon.\n",
    "\"\"\"\n",
    "import datetime as dt\n",
    "import pandas as pd\n",
    "\n",
    "loans = pd.read_pickle('data/output/loans.pkl')\n",
    "items = pd.read_pickle('data/output/inventory.pkl')\n",
    "\n",
    "two_weeks_ago = dt.datetime.now() - dt.timedelta(days=14)\n",
    "checked_out_item_ids = set(loans[loans['Checked In'].isna() & (loans['Checked Out'] < two_weeks_ago)]['Item ID'])\n",
    "\n",
    "active_items = ~items['Disabled'] & ~items['In Maintenance'] & ~items['Shop Use Only'] & ~items['Wish List']\n",
    "available_items = items[~items['Item ID'].isin(checked_out_item_ids) & active_items]\n",
    "available_items.info()"
   ]
  },
  {
   "cell_type": "code",
   "execution_count": 4,
   "id": "8aff08ed-cd93-4e5d-a6d4-b3aea8cf54e3",
   "metadata": {},
   "outputs": [],
   "source": [
    "available_items.to_csv('data/output/borrowed_inventory.csv', index=False)"
   ]
  },
  {
   "cell_type": "code",
   "execution_count": null,
   "id": "116b510e-dfa9-4b6c-8142-a313a6dae186",
   "metadata": {},
   "outputs": [],
   "source": []
  }
 ],
 "metadata": {
  "kernelspec": {
   "display_name": "Python 3 (ipykernel)",
   "language": "python",
   "name": "python3"
  },
  "language_info": {
   "codemirror_mode": {
    "name": "ipython",
    "version": 3
   },
   "file_extension": ".py",
   "mimetype": "text/x-python",
   "name": "python",
   "nbconvert_exporter": "python",
   "pygments_lexer": "ipython3",
   "version": "3.11.6"
  }
 },
 "nbformat": 4,
 "nbformat_minor": 5
}
