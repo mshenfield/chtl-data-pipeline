{
 "cells": [
  {
   "cell_type": "markdown",
   "id": "65dbcd18-b218-45d3-b517-26007456a0f0",
   "metadata": {
    "tags": []
   },
   "source": [
    "# Sustainable Capitol Hill 2022 Anual Meeting\n",
    "\n",
    "In 2021 the Capitol Hill Tool Library saw membership, checkouts, and return times move towards pre-pandemic levels."
   ]
  },
  {
   "cell_type": "code",
   "execution_count": null,
   "id": "a12b7fe8-bea7-46d8-8b90-d1f6a867bead",
   "metadata": {
    "tags": []
   },
   "outputs": [],
   "source": [
    "import numpy as np\n",
    "import pandas as pd\n",
    "\n",
    "members = pd.read_pickle('data/output/members.pkl')\n",
    "\n",
    "def to_month(timestamp_series):\n",
    "    return timestamp_series.apply(lambda t: pd.Timestamp(t.year, t.month, 1))\n",
    "\n",
    "member_dates = pd.DataFrame(\n",
    "    {\n",
    "        'Online Sign-Up Count': members['Created'].groupby(to_month(members['Created'])).size().asfreq('MS',fill_value=0),\n",
    "        'In Person Activation Count ': members['First Membership Started'].groupby(to_month(members['First Membership Started'])).size().asfreq('MS',fill_value=0)\n",
    "    },\n",
    "    index=pd.date_range(freq='MS', start=pd.Timestamp('2018-01-01'), end=pd.Timestamp('2022-12-31'))\n",
    ")\n",
    "\n",
    "graph = member_dates.plot(\n",
    "    title='Online Sign-ups And In-Person Activations Per Month',\n",
    "    figsize=(10, 6),\n",
    "    ylabel='Count',\n",
    "    ylim=(0,100),\n",
    ")"
   ]
  },
  {
   "cell_type": "code",
   "execution_count": null,
   "id": "adf4ae83-9a39-446d-beef-bc73f756383a",
   "metadata": {
    "tags": []
   },
   "outputs": [],
   "source": [
    "import pandas as pd\n",
    "from datetime import date\n",
    "\n",
    "checkouts = pd.read_pickle('data/output/checkouts.pkl')\n",
    "checkouts['Month'] = pd.to_datetime(checkouts['Checked Out'].map(lambda c: date(c.year, c.month, 1)))\n",
    "checkouts['Year'] = checkouts['Checked Out'].map(lambda c: c.year)\n",
    "# Exclude 2015 (tool library not fully open) and current year if it is only a month or two in.\n",
    "recent_years = checkouts[checkouts['Year'].isin([2018, 2019, 2020, 2021, 2022, 2023])]\n",
    "by_month = recent_years.groupby('Month').size().asfreq('MS', fill_value=0)\n",
    "\n",
    "# Save to a variable so the __str__ doesn't get displayed\n",
    "graph = by_month.plot(figsize=(10, 6), title='Checkouts Per Month', ylabel='Count', ylim=0)"
   ]
  },
  {
   "cell_type": "code",
   "execution_count": null,
   "id": "74ef2353-8e13-499d-97ab-774e609a0385",
   "metadata": {
    "tags": []
   },
   "outputs": [],
   "source": [
    "from datetime import date\n",
    "import pandas as pd\n",
    "\n",
    "loans = pd.read_pickle('data/output/loans.pkl')\n",
    "loans['Length'] = loans['Checked In'].fillna(pd.to_datetime(date.today())) - loans['Checked Out']\n",
    "loans['Year'] = loans['Checked Out'].map(lambda c: c.year)\n",
    "recent_years = loans[loans['Year'].isin([2018, 2019, 2020, 2021, 2022, 2023])]\n",
    "\n",
    "by_year = pd.DataFrame({'Days': recent_years['Length'].map(lambda l: l.days), 'Year': recent_years['Year']})\n",
    "graph = by_year.pivot(columns='Year', values='Days').plot.box(\n",
    "    # \"fliers\" in plt parlance are outliers.  We don't show them here because there are so many, they make the\n",
    "    # rest of the plot much harder to read.  The gist is that a few loans are just never returned.\n",
    "    showfliers=False,\n",
    "    figsize=(10, 6),\n",
    "    title='Item Loan Length',\n",
    "    ylabel='Days Loaned',\n",
    ")"
   ]
  },
  {
   "cell_type": "markdown",
   "id": "f4bc6da1-b2a5-4b75-b210-3935e91f3511",
   "metadata": {},
   "source": [
    "## Member Demographics\n",
    "\n",
    "We don't have reliable data on the race and gender makeup of our members. In the small group that have self-reported race and gender, white people and men are over-represented compared to Seattle as a whole.\n",
    "\n",
    "Because members are required to provide a birthday as part of the sign-up process, we have a lot of data on member age."
   ]
  },
  {
   "cell_type": "code",
   "execution_count": null,
   "id": "b0a8bf7d-024e-4534-8bc6-800a8fb902af",
   "metadata": {
    "jupyter": {
     "source_hidden": true
    },
    "tags": []
   },
   "outputs": [],
   "source": [
    "def age_group(age):\n",
    "    if pd.isna(age):\n",
    "        return 'unknown'\n",
    "    \n",
    "    age_digits = len(str(age))\n",
    "    # We see a lot of ages that are the year of birth, e.g. 1992\n",
    "    if age_digits == 4:\n",
    "        age = int(str(age)[2:])\n",
    "    elif age_digits != 2:\n",
    "        return 'unknown'\n",
    "\n",
    "    if age < 20:\n",
    "        return '0-19'\n",
    "    elif age >= 70:\n",
    "        return '70+'\n",
    "    else:\n",
    "        # Rounds down to nearest 10\n",
    "        clipped_age = (age // 10) * 10\n",
    "        return f'{clipped_age}-{clipped_age+9}'\n",
    "\n",
    "regular_members = pd.DataFrame(members[members['Current Membership Type'] != 'Request_CheckIDAddressPhoneDOB'])\n",
    "\n",
    "by_age_group = regular_members.groupby(regular_members['Age'].apply(age_group)).size()\n",
    "graph = by_age_group.plot.pie(\n",
    "    ylabel='', title='Members By Age Group',\n",
    "    fontsize='large',\n",
    "    figsize=(10, 10)\n",
    ")"
   ]
  },
  {
   "cell_type": "markdown",
   "id": "8c26e5dc-fb0f-45b5-a5ab-d1a7b5388b16",
   "metadata": {},
   "source": [
    "## Member Stories\n",
    "\n",
    "These are some of the projects I've heard people mention during my shifts:\n",
    "\n",
    "> I just moved to Seattle, and want to hang a shelf but don't have any tools.\n",
    "\n",
    "> I'm making lock-pick sets as a hobby and roped in some friends to help.\n",
    "\n",
    "> I'm going clamming over the weekend but don't want to own a clam gun.\n",
    "\n",
    "> I'm always working on a new woodworking project at the tool library.\n",
    "\n",
    "> I'm practicing to enter a machinst program.\n",
    "\n",
    "> I'd like to shorten this bit of metal shelving.\n",
    "\n",
    "> I'm building sex toys, mostly.\n",
    "\n",
    "> I'm demolishing my kitchen.\n",
    "\n",
    "> I'm 3D printing a holder for a custom audio-jack switcher.\n",
    "\n",
    "> I'm fixing my car's brakes.\n",
    "\n",
    "> I need to charge my phone here for a bit.\n",
    "\n",
    "> I'm installing a custom peg board in my closet to hang my climbing gear.\n",
    "\n",
    "> We're pouring the concrete for our new patio.\n",
    "\n",
    "> We're building a planter box."
   ]
  },
  {
   "cell_type": "markdown",
   "id": "d56495b9-bd45-4eb5-8687-8d721aaec418",
   "metadata": {},
   "source": [
    "## Revenue\n",
    "\n",
    "The Capitol Hill Tool Library gets revenue from membership donations, late fees, and donations directly to Sustainable Capitol Hill. The first two kinds of fees are recorded in MyTurn.\n",
    "\n",
    "### Late Fees"
   ]
  },
  {
   "cell_type": "code",
   "execution_count": null,
   "id": "a5209961-7ed1-4cf3-86fe-ff328155b6b8",
   "metadata": {
    "jupyter": {
     "source_hidden": true
    },
    "tags": []
   },
   "outputs": [],
   "source": [
    "import pandas as pd\n",
    "\n",
    "transactions = pd.read_pickle('data/output/transactions.pkl')\n",
    "transactions['Year'] = transactions['Date'].apply(lambda d: d.year)\n",
    "\n",
    "payments = transactions[transactions['Payment Method'].notna()]\n",
    "payments = payments[payments['Year'].isin([2018, 2019, 2020, 2021, 2022])]\n",
    "\n",
    "late_fees = pd.DataFrame(payments[payments['Type'] == 'Late Fee'])\n",
    "membership_fees = pd.DataFrame(payments[payments['Type'] == 'Membership Fee'])\n",
    "\n",
    "\n",
    "graph = late_fees.groupby('Year').sum()[['Payment Amount', 'Discount']].plot.bar(\n",
    "    stacked=True, title='Late Fees', grid=True, ylabel=\"Dollars\", xlabel=\"\")\n",
    "# TODO: MyTurn records over-payment donations as negative amounts. Need to think\n",
    "# more about what kind of stats I'd want to record for late fees."
   ]
  },
  {
   "cell_type": "markdown",
   "id": "13c8ca28-4bd4-4b1b-9cde-81ebddb53c25",
   "metadata": {},
   "source": [
    "### Membership Donations"
   ]
  },
  {
   "cell_type": "code",
   "execution_count": null,
   "id": "293260d7-2d1e-4f85-91d1-5f4fd6a8c627",
   "metadata": {
    "jupyter": {
     "source_hidden": true
    },
    "tags": []
   },
   "outputs": [],
   "source": [
    "membership_fees['Year'] = membership_fees['Date'].apply(lambda d: d.year)\n",
    "by_year = membership_fees.groupby('Year')\n",
    "graph = by_year.sum()[['Payment Amount']].plot.bar(\n",
    "    stacked=True, title='Membership Donations', grid=True, ylabel=\"Dollars\", xlabel=\"\")\n",
    "\n",
    "graph = membership_fees[membership_fees['Payment Amount'] >= 0].pivot(columns='Year', values='Payment Amount').plot.box(\n",
    "    ylabel=\"Dollars\",\n",
    "    showfliers=False,\n",
    ")\n"
   ]
  },
  {
   "cell_type": "markdown",
   "id": "85b5802b-5603-4826-aad2-4fb29e6f6b92",
   "metadata": {},
   "source": [
    "#### About This Report\n",
    "Code and instructions for playing with the Capitol Hill Tool Library data yourself are available at https://github.com/mshenfield/chtl-data-pipeline. Ask [Max Shenfield](https://app.slack.com/client/TAAD5LKJ4/D02BHR5J7J6/user_profile/U02BB35KMRU) for access.  The project is built using [Python](https://python.org), [Pandas](https://pandas.pydata.org/), and [Jupyter Notebook](https://jupyter.org/)."
   ]
  },
  {
   "cell_type": "code",
   "execution_count": null,
   "id": "2450f2b3-ae73-48b2-aaab-f10e9e6bc889",
   "metadata": {
    "jupyter": {
     "source_hidden": true
    },
    "tags": []
   },
   "outputs": [],
   "source": []
  }
 ],
 "metadata": {
  "kernelspec": {
   "display_name": "Python 3 (ipykernel)",
   "language": "python",
   "name": "python3"
  },
  "language_info": {
   "codemirror_mode": {
    "name": "ipython",
    "version": 3
   },
   "file_extension": ".py",
   "mimetype": "text/x-python",
   "name": "python",
   "nbconvert_exporter": "python",
   "pygments_lexer": "ipython3",
   "version": "3.11.8"
  }
 },
 "nbformat": 4,
 "nbformat_minor": 5
}
